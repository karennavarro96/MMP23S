{
 "cells": [
  {
   "cell_type": "markdown",
   "metadata": {},
   "source": [
    "# Implementing an integration problem via an integrand object"
   ]
  },
  {
   "cell_type": "code",
   "execution_count": 5,
   "metadata": {},
   "outputs": [
    {
     "name": "stdout",
     "output_type": "stream",
     "text": [
      "2.7248972640692437e-16\n"
     ]
    }
   ],
   "source": [
    "import numpy as np\n",
    "\n",
    "class MidpointIntegrator:\n",
    "    def __init__(self, evalIntegrand, lowerLimit, upperLimit, numBin=1000):\n",
    "        self.evalIntegrand = evalIntegrand\n",
    "        self.lowerLimit = lowerLimit\n",
    "        self.upperLimit = upperLimit\n",
    "        self.numBin = numBin\n",
    "    \n",
    "    def integrate(self):\n",
    "        \"\"\"\n",
    "        Computes the definite integral of a given function using the midpoint rule.\n",
    "\n",
    "        Returns:\n",
    "            The approximate value of the definite integral of f(x) from lowerLimit to upperLimit.\n",
    "        \"\"\"\n",
    "        h = (self.upperLimit - self.lowerLimit) / self.numBin\n",
    "        integral = 0\n",
    "        for i in range(self.numBin):\n",
    "            x_mid = self.lowerLimit + (i + 0.5) * h\n",
    "            integral += self.evalIntegrand(x_mid)\n",
    "        integral *= h\n",
    "        return integral\n",
    "\n",
    "# Test the integrator with the given function\n",
    "integrator = MidpointIntegrator(np.sin, 0, 2*np.pi, 100)\n",
    "result = integrator.integrate()\n",
    "print(result)\n"
   ]
  },
  {
   "cell_type": "code",
   "execution_count": 11,
   "metadata": {},
   "outputs": [],
   "source": [
    "class Projectile:\n",
    "    def __init__(self, initVelocity=0):\n",
    "        self.v0 = initVelocity\n",
    "        self.g = 9.81 \n",
    "\n",
    "    def getVelocity(self, time=0):\n",
    "        return self.v0 - self.g * time\n",
    "\n",
    "    def integrate(self, lowerLimit, upperLimit, numBin=1000):\n",
    "        h = (upperLimit - lowerLimit) / numBin\n",
    "        x = np.linspace(lowerLimit + 0.5*h, upperLimit - 0.5*h, numBin)\n",
    "        return h * np.sum(self.getVelocity(x))"
   ]
  },
  {
   "cell_type": "code",
   "execution_count": 12,
   "metadata": {},
   "outputs": [
    {
     "name": "stdout",
     "output_type": "stream",
     "text": [
      "v(time=1) = 0.1899999999999995\n",
      "Total distance traveled after 1 second: 5.095 meters\n"
     ]
    }
   ],
   "source": [
    "projectile = Projectile(initVelocity=10)\n",
    "print( \"v(time=1) =\", projectile.getVelocity(time=1) )\n",
    "print( \"Total distance traveled after 1 second: {} meters\".format(projectile.integrate(0, 1)) )"
   ]
  },
  {
   "cell_type": "code",
   "execution_count": 21,
   "metadata": {},
   "outputs": [],
   "source": [
    "class Projectile:\n",
    "    def __init__(self, initVelocity=0):\n",
    "        self.v0 = initVelocity\n",
    "        self.g = 9.81 \n",
    "\n",
    "    def getVelocity(self, time=0):\n",
    "        return self.v0 - self.g * time\n",
    "        \n",
    "    def __call__(self, time):\n",
    "        return self.getVelocity(time) * time\n",
    "\n",
    "    def integrate(self, lowerLimit, upperLimit, numBin=1000):\n",
    "        h = (upperLimit - lowerLimit) / numBin\n",
    "        x = np.linspace(lowerLimit + 0.5*h, upperLimit - 0.5*h, numBin)\n",
    "        return h * np.sum(self.getVelocity(x))\n",
    "\n"
   ]
  },
  {
   "cell_type": "code",
   "execution_count": 22,
   "metadata": {},
   "outputs": [
    {
     "name": "stdout",
     "output_type": "stream",
     "text": [
      "v(time=1) = 0.1899999999999995\n",
      "Total distance traveled after 1 second: 5.095 meters\n"
     ]
    }
   ],
   "source": [
    "projectile = Projectile(initVelocity=10)\n",
    "print( \"v(time=1) =\", projectile.getVelocity(time=1) )\n",
    "print( \"Total distance traveled after 1 second: {} meters\".format(projectile.integrate(0, 1)) )"
   ]
  },
  {
   "cell_type": "code",
   "execution_count": 23,
   "metadata": {},
   "outputs": [
    {
     "name": "stdout",
     "output_type": "stream",
     "text": [
      "v(time=1) = 0.1899999999999995\n",
      "Total distance traveled after 1 second: 1.7300008175 meters\n"
     ]
    }
   ],
   "source": [
    "projectile = Projectile(initVelocity=10)\n",
    "print(\"v(time=1) =\", projectile.getVelocity(time=1))\n",
    "print(\"Total distance traveled after 1 second: {} meters\".format(integrate(projectile, 0, 1)))\n"
   ]
  },
  {
   "cell_type": "code",
   "execution_count": 24,
   "metadata": {},
   "outputs": [
    {
     "name": "stdout",
     "output_type": "stream",
     "text": [
      "v(time=1) = 0.1899999999999995\n",
      "Total distance traveled after 1 second: 1.7300008175 meters\n"
     ]
    }
   ],
   "source": [
    "projectile = Projectile(initVelocity=10)\n",
    "print( \"v(time=1) =\", projectile.getVelocity(time=1) )\n",
    "print( \"Total distance traveled after 1 second: {} meters\".format(integrate(projectile,0,1)))"
   ]
  },
  {
   "cell_type": "markdown",
   "metadata": {},
   "source": [
    "# Projectile motion implementation through OOP multiple inheritance"
   ]
  },
  {
   "cell_type": "code",
   "execution_count": 25,
   "metadata": {},
   "outputs": [],
   "source": [
    "# Y motion\n",
    "\n",
    "class ProjLocY():  \n",
    "    def __init__(self, velInitY, g = 9.8):  \n",
    "        self.velInitY = velInitY # initial velocity along the y direction.  \n",
    "        self.gravityConstant = g # gravityConstant, 9.81 on earth.  \n",
    "    def getLocY(self, time):  \n",
    "        \"\"\"  \n",
    "        Return the location of the projectile at the specific given `time` and initial velocity.  \n",
    "        Input  \n",
    "            time    :   An input real (float) representing the time  \n",
    "                        past since the start of the projectile motion.  \n",
    "        \"\"\"  \n",
    "        return self.velInitY * time - 0.5 * self.gravityConstant * time**2  \n",
    "    def eval(self, time): return self.getLocY(time)  "
   ]
  },
  {
   "cell_type": "code",
   "execution_count": 26,
   "metadata": {},
   "outputs": [],
   "source": [
    "# X motion\n",
    "\n",
    "class ProjLocX():  \n",
    "    def __init__(self, velInitX):  \n",
    "        self.velInitX = velInitX # initial velocity along the x direction\n",
    "        \n",
    "    def getLocX(self, time):  \n",
    "        return self.velInitX * time  \n",
    "    \n",
    "    def eval(self, time): \n",
    "        return self.getLocX(time)\n"
   ]
  },
  {
   "cell_type": "code",
   "execution_count": 31,
   "metadata": {},
   "outputs": [],
   "source": [
    "class ProjLocX():\n",
    "    def __init__(self, velInitX):\n",
    "        self.velInitX = velInitX\n",
    "        \n",
    "    def getLocX(self, time):\n",
    "        return self.velInitX * time\n",
    "    \n",
    "    def eval(self, time):\n",
    "        return self.getLocX(time)\n"
   ]
  },
  {
   "cell_type": "code",
   "execution_count": 32,
   "metadata": {},
   "outputs": [],
   "source": [
    "class ProjLocY():\n",
    "    def __init__(self, velInitY, g = 9.8):\n",
    "        self.velInitY = velInitY\n",
    "        self.gravityConstant = g\n",
    "    def getLocY(self, time):\n",
    "        return self.velInitY * time - 0.5 * self.gravityConstant * time**2\n",
    "    def eval(self, time): return self.getLocY(time)"
   ]
  },
  {
   "cell_type": "code",
   "execution_count": 33,
   "metadata": {},
   "outputs": [],
   "source": [
    "def getDiff(func, t, deltaT = 1.e-5):\n",
    "    return (func.eval(t + deltaT) - func.eval(t)) / deltaT"
   ]
  },
  {
   "cell_type": "code",
   "execution_count": 34,
   "metadata": {},
   "outputs": [
    {
     "name": "stdout",
     "output_type": "stream",
     "text": [
      "9.999999999976694 0.19995099993508345\n"
     ]
    }
   ],
   "source": [
    "px = ProjLocX(10)\n",
    "py = ProjLocY(10)\n",
    "\n",
    "print(getDiff(px, t = 1), getDiff(py, t = 1))"
   ]
  },
  {
   "cell_type": "code",
   "execution_count": null,
   "metadata": {},
   "outputs": [],
   "source": []
  },
  {
   "cell_type": "code",
   "execution_count": null,
   "metadata": {},
   "outputs": [],
   "source": []
  },
  {
   "cell_type": "code",
   "execution_count": 35,
   "metadata": {},
   "outputs": [],
   "source": [
    "class Projectile2D(ProjLocX, ProjLocY):\n",
    "    def __init__(self, velInitX, velInitY, g=9.8):\n",
    "        ProjLocX.__init__(self, velInitX)\n",
    "        ProjLocY.__init__(self, velInitY, g)\n",
    "        \n",
    "    def getVelocityX(self, time):\n",
    "        return ProjLocX.getLocX(self, time)\n",
    "    \n",
    "    def getVelocityY(self, time):\n",
    "        return ProjLocY.getLocY(self, time)\n"
   ]
  },
  {
   "cell_type": "code",
   "execution_count": 36,
   "metadata": {},
   "outputs": [],
   "source": [
    "class Projectile(ProjLocX, ProjLocY):\n",
    "    def __init__(self, initVelocity):\n",
    "        ProjLocX.__init__(self, initVelocity)\n",
    "        ProjLocY.__init__(self, initVelocity)\n",
    "        \n",
    "    def eval(self, time):\n",
    "        x = ProjLocX.getLocX(self, time)\n",
    "        y = ProjLocY.getLocY(self, time)\n",
    "        return (x, y)\n"
   ]
  },
  {
   "cell_type": "code",
   "execution_count": 37,
   "metadata": {},
   "outputs": [
    {
     "name": "stdout",
     "output_type": "stream",
     "text": [
      "(10, 5.1)\n"
     ]
    }
   ],
   "source": [
    "projectile = Projectile(initVelocity=10)\n",
    "print(projectile.eval(time=1))\n"
   ]
  },
  {
   "cell_type": "code",
   "execution_count": 45,
   "metadata": {},
   "outputs": [],
   "source": [
    "class ProjLocXY(ProjLocX, ProjLocY):\n",
    "    def __init__(self, initVelocityX, initVelocityY, g=9.8):\n",
    "        ProjLocX.__init__(self, initVelocityX)\n",
    "        ProjLocY.__init__(self, initVelocityY, g)\n",
    "        \n",
    "    def eval(self, time):\n",
    "        return (self.getLocX(time), self.getLocY(time))\n",
    "    \n",
    "    def getSpeed(self, time):\n",
    "        velX = getDiff(self.getLocX, time, deltaT=1e-5)\n",
    "        velY = getDiff(self.getLocY, time, deltaT=1e-5)\n",
    "        speed = np.linalg.norm([velX, velY])\n",
    "        return speed\n"
   ]
  },
  {
   "cell_type": "code",
   "execution_count": 46,
   "metadata": {},
   "outputs": [
    {
     "ename": "AttributeError",
     "evalue": "'function' object has no attribute 'eval'",
     "output_type": "error",
     "traceback": [
      "\u001b[0;31m---------------------------------------------------------------------------\u001b[0m",
      "\u001b[0;31mAttributeError\u001b[0m                            Traceback (most recent call last)",
      "\u001b[0;32m<ipython-input-46-2fe37209bdb2>\u001b[0m in \u001b[0;36m<module>\u001b[0;34m\u001b[0m\n\u001b[1;32m      1\u001b[0m \u001b[0mp\u001b[0m \u001b[0;34m=\u001b[0m \u001b[0mProjLocXY\u001b[0m\u001b[0;34m(\u001b[0m\u001b[0;36m10\u001b[0m\u001b[0;34m,\u001b[0m \u001b[0;36m10\u001b[0m\u001b[0;34m)\u001b[0m\u001b[0;34m\u001b[0m\u001b[0;34m\u001b[0m\u001b[0m\n\u001b[0;32m----> 2\u001b[0;31m \u001b[0mprint\u001b[0m\u001b[0;34m(\u001b[0m\u001b[0;34m\"Speed at time = {} is {}\"\u001b[0m\u001b[0;34m.\u001b[0m\u001b[0mformat\u001b[0m\u001b[0;34m(\u001b[0m\u001b[0;36m1\u001b[0m\u001b[0;34m,\u001b[0m \u001b[0mp\u001b[0m\u001b[0;34m.\u001b[0m\u001b[0mgetSpeed\u001b[0m\u001b[0;34m(\u001b[0m\u001b[0;36m1\u001b[0m\u001b[0;34m)\u001b[0m\u001b[0;34m)\u001b[0m\u001b[0;34m)\u001b[0m\u001b[0;34m\u001b[0m\u001b[0;34m\u001b[0m\u001b[0m\n\u001b[0m",
      "\u001b[0;32m<ipython-input-45-ca820f7429aa>\u001b[0m in \u001b[0;36mgetSpeed\u001b[0;34m(self, time)\u001b[0m\n\u001b[1;32m      8\u001b[0m \u001b[0;34m\u001b[0m\u001b[0m\n\u001b[1;32m      9\u001b[0m     \u001b[0;32mdef\u001b[0m \u001b[0mgetSpeed\u001b[0m\u001b[0;34m(\u001b[0m\u001b[0mself\u001b[0m\u001b[0;34m,\u001b[0m \u001b[0mtime\u001b[0m\u001b[0;34m)\u001b[0m\u001b[0;34m:\u001b[0m\u001b[0;34m\u001b[0m\u001b[0;34m\u001b[0m\u001b[0m\n\u001b[0;32m---> 10\u001b[0;31m         \u001b[0mvelX\u001b[0m \u001b[0;34m=\u001b[0m \u001b[0mgetDiff\u001b[0m\u001b[0;34m(\u001b[0m\u001b[0mself\u001b[0m\u001b[0;34m.\u001b[0m\u001b[0mgetLocX\u001b[0m\u001b[0;34m,\u001b[0m \u001b[0mtime\u001b[0m\u001b[0;34m,\u001b[0m \u001b[0mdeltaT\u001b[0m\u001b[0;34m=\u001b[0m\u001b[0;36m1e-5\u001b[0m\u001b[0;34m)\u001b[0m\u001b[0;34m\u001b[0m\u001b[0;34m\u001b[0m\u001b[0m\n\u001b[0m\u001b[1;32m     11\u001b[0m         \u001b[0mvelY\u001b[0m \u001b[0;34m=\u001b[0m \u001b[0mgetDiff\u001b[0m\u001b[0;34m(\u001b[0m\u001b[0mself\u001b[0m\u001b[0;34m.\u001b[0m\u001b[0mgetLocY\u001b[0m\u001b[0;34m,\u001b[0m \u001b[0mtime\u001b[0m\u001b[0;34m,\u001b[0m \u001b[0mdeltaT\u001b[0m\u001b[0;34m=\u001b[0m\u001b[0;36m1e-5\u001b[0m\u001b[0;34m)\u001b[0m\u001b[0;34m\u001b[0m\u001b[0;34m\u001b[0m\u001b[0m\n\u001b[1;32m     12\u001b[0m         \u001b[0mspeed\u001b[0m \u001b[0;34m=\u001b[0m \u001b[0mnp\u001b[0m\u001b[0;34m.\u001b[0m\u001b[0mlinalg\u001b[0m\u001b[0;34m.\u001b[0m\u001b[0mnorm\u001b[0m\u001b[0;34m(\u001b[0m\u001b[0;34m[\u001b[0m\u001b[0mvelX\u001b[0m\u001b[0;34m,\u001b[0m \u001b[0mvelY\u001b[0m\u001b[0;34m]\u001b[0m\u001b[0;34m)\u001b[0m\u001b[0;34m\u001b[0m\u001b[0;34m\u001b[0m\u001b[0m\n",
      "\u001b[0;32m<ipython-input-33-2e755440fc9c>\u001b[0m in \u001b[0;36mgetDiff\u001b[0;34m(func, t, deltaT)\u001b[0m\n\u001b[1;32m      1\u001b[0m \u001b[0;32mdef\u001b[0m \u001b[0mgetDiff\u001b[0m\u001b[0;34m(\u001b[0m\u001b[0mfunc\u001b[0m\u001b[0;34m,\u001b[0m \u001b[0mt\u001b[0m\u001b[0;34m,\u001b[0m \u001b[0mdeltaT\u001b[0m \u001b[0;34m=\u001b[0m \u001b[0;36m1.e-5\u001b[0m\u001b[0;34m)\u001b[0m\u001b[0;34m:\u001b[0m\u001b[0;34m\u001b[0m\u001b[0;34m\u001b[0m\u001b[0m\n\u001b[0;32m----> 2\u001b[0;31m     \u001b[0;32mreturn\u001b[0m \u001b[0;34m(\u001b[0m\u001b[0mfunc\u001b[0m\u001b[0;34m.\u001b[0m\u001b[0meval\u001b[0m\u001b[0;34m(\u001b[0m\u001b[0mt\u001b[0m \u001b[0;34m+\u001b[0m \u001b[0mdeltaT\u001b[0m\u001b[0;34m)\u001b[0m \u001b[0;34m-\u001b[0m \u001b[0mfunc\u001b[0m\u001b[0;34m.\u001b[0m\u001b[0meval\u001b[0m\u001b[0;34m(\u001b[0m\u001b[0mt\u001b[0m\u001b[0;34m)\u001b[0m\u001b[0;34m)\u001b[0m \u001b[0;34m/\u001b[0m \u001b[0mdeltaT\u001b[0m\u001b[0;34m\u001b[0m\u001b[0;34m\u001b[0m\u001b[0m\n\u001b[0m",
      "\u001b[0;31mAttributeError\u001b[0m: 'function' object has no attribute 'eval'"
     ]
    }
   ],
   "source": [
    "p = ProjLocXY(10, 10)\n",
    "print(\"Speed at time = {} is {}\".format(1, p.getSpeed(1)))\n"
   ]
  },
  {
   "cell_type": "code",
   "execution_count": null,
   "metadata": {},
   "outputs": [],
   "source": []
  }
 ],
 "metadata": {
  "kernelspec": {
   "display_name": "Python 3",
   "language": "python",
   "name": "python3"
  },
  "language_info": {
   "codemirror_mode": {
    "name": "ipython",
    "version": 3
   },
   "file_extension": ".py",
   "mimetype": "text/x-python",
   "name": "python",
   "nbconvert_exporter": "python",
   "pygments_lexer": "ipython3",
   "version": "3.7.1"
  }
 },
 "nbformat": 4,
 "nbformat_minor": 2
}
