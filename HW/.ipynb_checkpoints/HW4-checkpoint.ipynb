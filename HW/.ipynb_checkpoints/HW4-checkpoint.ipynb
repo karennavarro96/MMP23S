{
 "cells": [
  {
   "cell_type": "markdown",
   "metadata": {},
   "source": [
    "# Homework 4 Performance Optimization"
   ]
  },
  {
   "cell_type": "markdown",
   "metadata": {},
   "source": [
    "## P1: Performance benchmarking of naive matrix multiplication in Python vs. optimized libraries"
   ]
  },
  {
   "cell_type": "markdown",
   "metadata": {},
   "source": [
    "1. Write a Python function with the following interface that computes the matrix multiplication of two input matrices."
   ]
  },
  {
   "cell_type": "code",
   "execution_count": 1,
   "metadata": {},
   "outputs": [],
   "source": [
    "def matmul(matA, matB):\n",
    "    # First needs to find the dimensions of the input matrices\n",
    "    x = len(matA)\n",
    "    y = len(matB[0])\n",
    "    z = len(matB)\n",
    "    # I did a bit of googling on how to implement the multiplication \n",
    "    # Hence the following\n",
    "    output = [[0 for j in range(y)] for i in range(x)]\n",
    "    \n",
    "    for i in range(x):\n",
    "        for j in range(y):\n",
    "            for k in range(z):\n",
    "                output[i][j] += matA[i][k] * matB[k][j]\n",
    "    return output"
   ]
  },
  {
   "cell_type": "code",
   "execution_count": 2,
   "metadata": {},
   "outputs": [],
   "source": [
    "matA = [[12, 7, 3],\n",
    "        [4, 4, 6],\n",
    "        [5, 3, 3]]\n",
    "matB = [[0, 1, 1, 7],\n",
    "        [6, 7, 3, 1],\n",
    "        [2, 5, 8, 3]]"
   ]
  },
  {
   "cell_type": "code",
   "execution_count": 3,
   "metadata": {},
   "outputs": [
    {
     "name": "stdout",
     "output_type": "stream",
     "text": [
      "[[48, 76, 57, 100], [36, 62, 64, 50], [24, 41, 38, 47]]\n"
     ]
    }
   ],
   "source": [
    "print(matmul(matA, matB))"
   ]
  },
  {
   "cell_type": "markdown",
   "metadata": {},
   "source": [
    "2. Now, confirm the results of your function with the numpy library’s matmul function."
   ]
  },
  {
   "cell_type": "code",
   "execution_count": 4,
   "metadata": {},
   "outputs": [
    {
     "name": "stdout",
     "output_type": "stream",
     "text": [
      "[[ 48  76  57 100]\n",
      " [ 36  62  64  50]\n",
      " [ 24  41  38  47]]\n"
     ]
    }
   ],
   "source": [
    "import numpy as np\n",
    "\n",
    "# To use numpy's library we only have to use np.matlum\n",
    "# https://numpy.org/doc/stable/reference/generated/numpy.matmul.html\n",
    "\n",
    "print(np.matmul(matA, matB))\n"
   ]
  },
  {
   "cell_type": "markdown",
   "metadata": {},
   "source": [
    "3. Now, benchmark the performance of the numpy matmul with the one you implemented for square matrices of rank: 2, 4, 16, 32, 64, 128, 256, 512, 1024.\n",
    "To make the benchmark accurate and fair, we will have to first fill these matrices with random values."
   ]
  },
  {
   "cell_type": "code",
   "execution_count": 5,
   "metadata": {},
   "outputs": [],
   "source": [
    "import numpy as np\n",
    "import time\n",
    "import matplotlib.pyplot as plt"
   ]
  },
  {
   "cell_type": "code",
   "execution_count": 6,
   "metadata": {},
   "outputs": [],
   "source": [
    "# Make square matricess with ranks:\n",
    "#ranks = [2, 4, 16, 32, 64, 128, 256, 512, 1024]\n",
    "ranks = [2, 4, 16]\n",
    "# Any more ranks where taking a very long long time.."
   ]
  },
  {
   "cell_type": "code",
   "execution_count": 7,
   "metadata": {},
   "outputs": [],
   "source": [
    "num_reps = [int(1e7 / rank**2) for rank in ranks]\n",
    "np.random.seed(42)"
   ]
  },
  {
   "cell_type": "code",
   "execution_count": 8,
   "metadata": {},
   "outputs": [],
   "source": [
    "# Make arrays to store the time results\n",
    "timings_np = np.zeros(len(ranks))\n",
    "timings_custom = np.zeros(len(ranks))"
   ]
  },
  {
   "cell_type": "code",
   "execution_count": 9,
   "metadata": {},
   "outputs": [
    {
     "name": "stdout",
     "output_type": "stream",
     "text": [
      "Rank 2:\n",
      "np.matmul(): 0.0000011 s per mul\n",
      "matmul(): 0.0000059 s per mul\n",
      "Speedup: 0.19x\n",
      "\n",
      "Rank 4:\n",
      "np.matmul(): 0.0000011 s per mul\n",
      "matmul(): 0.0000335 s per mul\n",
      "Speedup: 0.03x\n",
      "\n",
      "Rank 16:\n",
      "np.matmul(): 0.0000011 s per mul\n",
      "matmul(): 0.0017906 s per mul\n",
      "Speedup: 0.00x\n",
      "\n"
     ]
    }
   ],
   "source": [
    "for i, rank in enumerate(ranks):\n",
    "    matA = np.random.rand(rank, rank)\n",
    "    matB = np.random.rand(rank, rank)\n",
    "\n",
    "    # numpy.matmul() function\n",
    "    start = time.perf_counter()\n",
    "    for j in range(num_reps[i]):\n",
    "        result_np = np.matmul(matA, matB)\n",
    "    end = time.perf_counter()\n",
    "    elapsed_np = (end - start) / num_reps[i]\n",
    "    timings_np[i] = elapsed_np\n",
    "\n",
    "    # matmul() function\n",
    "    start = time.perf_counter()\n",
    "    for j in range(num_reps[i]):\n",
    "        result_custom = matmul(matA, matB)\n",
    "    end = time.perf_counter()\n",
    "    elapsed_custom = (end - start) / num_reps[i]\n",
    "    timings_custom[i] = elapsed_custom\n",
    "\n",
    "    # Print the results\n",
    "    print(f\"Rank {rank}:\")\n",
    "    print(f\"np.matmul(): {elapsed_np:.7f} s per mul\")\n",
    "    print(f\"matmul(): {elapsed_custom:.7f} s per mul\")\n",
    "    print(f\"Speedup: {elapsed_np / elapsed_custom:.2f}x\\n\")"
   ]
  },
  {
   "cell_type": "markdown",
   "metadata": {},
   "source": [
    "4. Store the timing results for matrix multiplication for the two methods in an array.\n",
    "Then use matplotlib python library to plot the two timing vectors vs. matrix ranks with which you did the benchmark."
   ]
  },
  {
   "cell_type": "code",
   "execution_count": 10,
   "metadata": {},
   "outputs": [
    {
     "data": {
      "image/png": "[encoded data removed]",
      "text/plain": [
       "<Figure size 640x480 with 1 Axes>"
      ]
     },
     "metadata": {},
     "output_type": "display_data"
    }
   ],
   "source": [
    "# Plot the timing vectors vs. matrix ranks\n",
    "plt.plot(ranks, timings_np, 'o', color='tab:blue', label=\"np.matmul()\")\n",
    "plt.plot(ranks, timings_custom, 'o', color='tab:red', label=\"matmul()\")\n",
    "#plt.xscale('log')\n",
    "plt.yscale('log')\n",
    "plt.xlabel(\"Rank\")\n",
    "plt.ylabel(\"Time / Mul (s)\")\n",
    "plt.title(\"Matrix Mul\")\n",
    "plt.legend()\n",
    "plt.show()"
   ]
  },
  {
   "cell_type": "markdown",
   "metadata": {},
   "source": [
    "## P2: loop invariant code motion"
   ]
  },
  {
   "cell_type": "code",
   "execution_count": 11,
   "metadata": {},
   "outputs": [],
   "source": [
    "import numpy as np\n",
    "const = 256.\n",
    "x = [i for i in range(1, 100000)]\n",
    "z = np.zeros(len(x))\n",
    "for i, element in enumerate(x):\n",
    "    z[i] = np.sqrt(const) * x[i]"
   ]
  },
  {
   "cell_type": "code",
   "execution_count": 12,
   "metadata": {},
   "outputs": [
    {
     "name": "stdout",
     "output_type": "stream",
     "text": [
      "Computation time of unoptimized: 0.089235s\n"
     ]
    }
   ],
   "source": [
    "import numpy as np\n",
    "import time\n",
    "const = 256.\n",
    "x = [i for i in range(1, 100000)]\n",
    "z = np.zeros(len(x))\n",
    "\n",
    "start = time.perf_counter()\n",
    "for i, element in enumerate(x):\n",
    "    z[i] = np.sqrt(const) * x[i]\n",
    "end = time.perf_counter()\n",
    "\n",
    "print(f\"Computation time of unoptimized: {end-start:.6f}s\")\n"
   ]
  },
  {
   "cell_type": "markdown",
   "metadata": {},
   "source": [
    "In this case, the for loop is the item that is making the computation longer. There is no need to have a for loop when we can have z (the variable) be the computation.\n",
    "\n",
    "Also, change: x = [i for i in range(1, 100000)]\n",
    "to: x = np.arange(1, 100000)"
   ]
  },
  {
   "cell_type": "code",
   "execution_count": 13,
   "metadata": {},
   "outputs": [
    {
     "name": "stdout",
     "output_type": "stream",
     "text": [
      "Computation time of optimized: 0.001415s\n"
     ]
    }
   ],
   "source": [
    "const = 256.\n",
    "start = time.perf_counter()\n",
    "x = np.arange(1, 100000)\n",
    "z = np.sqrt(const) * x\n",
    "end = time.perf_counter()\n",
    "\n",
    "print(f\"Computation time of optimized: {end-start:.6f}s\")"
   ]
  },
  {
   "cell_type": "code",
   "execution_count": 14,
   "metadata": {},
   "outputs": [
    {
     "name": "stdout",
     "output_type": "stream",
     "text": [
      "The optimized code performance improvement is 97.0 times faster.\n"
     ]
    }
   ],
   "source": [
    "a = 0.146606 / 0.001518\n",
    "print(f\"The optimized code performance improvement is {np.round(a)} times faster.\")"
   ]
  },
  {
   "cell_type": "markdown",
   "metadata": {},
   "source": [
    "## P3: Forced reduction - sincos"
   ]
  },
  {
   "cell_type": "code",
   "execution_count": 15,
   "metadata": {},
   "outputs": [],
   "source": [
    "import numpy as np\n",
    "def sincos(x):\n",
    "    \"\"\"\n",
    "    Return `sin(x) * cos(x)`.\n",
    "    \"\"\"\n",
    "    return np.sin(x) * np.cos(x)"
   ]
  },
  {
   "cell_type": "code",
   "execution_count": 16,
   "metadata": {},
   "outputs": [
    {
     "data": {
      "text/plain": [
       "0.4946791233116909"
      ]
     },
     "execution_count": 16,
     "metadata": {},
     "output_type": "execute_result"
    }
   ],
   "source": [
    "sincos(4)"
   ]
  },
  {
   "cell_type": "markdown",
   "metadata": {},
   "source": [
    "Instead of multiplying sin(x) * cos(x), we can use the identity to reduce the computation time"
   ]
  },
  {
   "cell_type": "code",
   "execution_count": 54,
   "metadata": {},
   "outputs": [],
   "source": [
    "import numpy as np\n",
    "import time"
   ]
  },
  {
   "cell_type": "code",
   "execution_count": 59,
   "metadata": {},
   "outputs": [
    {
     "name": "stdout",
     "output_type": "stream",
     "text": [
      "Unoptimized: 0.014070s\n"
     ]
    }
   ],
   "source": [
    "xvals = np.double(range(1000000))\n",
    "def sincos(x): return np.sin(x) * np.cos(x)\n",
    "\n",
    "start = time.perf_counter()\n",
    "a = sincos(xvals)\n",
    "end = time.perf_counter()\n",
    "\n",
    "print(f\"Unoptimized: {end-start:.6f}s\")"
   ]
  },
  {
   "cell_type": "code",
   "execution_count": 58,
   "metadata": {},
   "outputs": [
    {
     "name": "stdout",
     "output_type": "stream",
     "text": [
      "Optimized: 0.002417s\n"
     ]
    }
   ],
   "source": [
    "def new_sincos(x): return 0.5 * np.sin(2*x)\n",
    "\n",
    "start = time.perf_counter()\n",
    "b = new_sincos(xvals)\n",
    "end = time.perf_counter()\n",
    "\n",
    "print(f\"Optimized: {end-start:.6f}s\")"
   ]
  },
  {
   "cell_type": "code",
   "execution_count": 21,
   "metadata": {},
   "outputs": [
    {
     "name": "stdout",
     "output_type": "stream",
     "text": [
      "The optimized code performance improvement is 1.0 times faster.\n"
     ]
    }
   ],
   "source": [
    "c = 0.000074 / 0.000063\n",
    "print(f\"The optimized code performance improvement is {np.round(c)} times faster.\")"
   ]
  },
  {
   "cell_type": "markdown",
   "metadata": {},
   "source": [
    "Its not as optimized by many times."
   ]
  },
  {
   "cell_type": "markdown",
   "metadata": {},
   "source": [
    "## P4: Forced reduction - hidden opportunities"
   ]
  },
  {
   "cell_type": "code",
   "execution_count": 21,
   "metadata": {},
   "outputs": [],
   "source": [
    "import numpy as np\n",
    "\n",
    "def count(xvec):\n",
    "    \"\"\"\n",
    "    Return the count of elements of the input `xvec` whose natural logarithm is less than `0`.\n",
    "    \"\"\"\n",
    "    counter = 0\n",
    "    for element in xvec: \n",
    "        if np.log(element) < 0: counter += 1\n",
    "    return counter"
   ]
  },
  {
   "cell_type": "code",
   "execution_count": 22,
   "metadata": {},
   "outputs": [
    {
     "name": "stdout",
     "output_type": "stream",
     "text": [
      "Unoptimized: 0.176287s\n"
     ]
    }
   ],
   "source": [
    "xvec = np.random.rand(100000)\n",
    "\n",
    "start = time.perf_counter()\n",
    "a = count(xvec)\n",
    "end = time.perf_counter()\n",
    "print(f\"Unoptimized: {end-start:.6f}s\")"
   ]
  },
  {
   "cell_type": "markdown",
   "metadata": {},
   "source": [
    "To improve the above I think I can just call np.log of the value and put the condition of < 0. \n",
    "From: https://numpy.org/doc/stable/reference/generated/numpy.count_nonzero.html\n",
    "\n",
    "np.count_nonzero = Counts the number of non-zero values in the array a."
   ]
  },
  {
   "cell_type": "code",
   "execution_count": 23,
   "metadata": {},
   "outputs": [],
   "source": [
    "def new_count(xvec):\n",
    "    log = np.log(xvec)\n",
    "    return np.count_nonzero(log < 0)"
   ]
  },
  {
   "cell_type": "code",
   "execution_count": 24,
   "metadata": {},
   "outputs": [
    {
     "name": "stdout",
     "output_type": "stream",
     "text": [
      "Optimized: 0.002471s\n"
     ]
    }
   ],
   "source": [
    "start = time.perf_counter()\n",
    "b = new_count(xvec)\n",
    "end = time.perf_counter()\n",
    "print(f\"Optimized: {end-start:.6f}s\")"
   ]
  },
  {
   "cell_type": "code",
   "execution_count": 27,
   "metadata": {},
   "outputs": [
    {
     "name": "stdout",
     "output_type": "stream",
     "text": [
      "96.74694077337249\n",
      "The optimized code performance improvement is 97.0 times faster.\n"
     ]
    }
   ],
   "source": [
    "c =  0.197654/0.002043 \n",
    "print(c)\n",
    "print(f\"The optimized code performance improvement is {np.round(c)} times faster.\")"
   ]
  },
  {
   "cell_type": "markdown",
   "metadata": {},
   "source": [
    "## P5: Breaking out of loop early"
   ]
  },
  {
   "cell_type": "code",
   "execution_count": 34,
   "metadata": {},
   "outputs": [],
   "source": [
    "import numpy as np\n",
    "import time"
   ]
  },
  {
   "cell_type": "code",
   "execution_count": 35,
   "metadata": {},
   "outputs": [],
   "source": [
    "# adding this before hand\n",
    "boolVec = np.random.choice(a = [False, True], size= 10000)"
   ]
  },
  {
   "cell_type": "code",
   "execution_count": 36,
   "metadata": {},
   "outputs": [],
   "source": [
    "def any(boolVec):\n",
    "    \"\"\"\n",
    "    Return True if any of the elements of the input value are True, \n",
    "    otherwise, return False.\n",
    "    \"\"\"\n",
    "    result = False\n",
    "    for element in boolVec:\n",
    "        result = result or element\n",
    "    return result"
   ]
  },
  {
   "cell_type": "code",
   "execution_count": 37,
   "metadata": {},
   "outputs": [
    {
     "name": "stdout",
     "output_type": "stream",
     "text": [
      "Unoptimized: 0.000195s\n"
     ]
    }
   ],
   "source": [
    "start = time.perf_counter()\n",
    "a = any(boolVec)\n",
    "end = time.perf_counter()\n",
    "\n",
    "print(f\"Unoptimized: {end-start:.6f}s\")"
   ]
  },
  {
   "cell_type": "markdown",
   "metadata": {},
   "source": [
    "To optimize, there is a python function that might be better: any\n",
    "From: https://docs.python.org/3/library/functions.html\n",
    "any(iterable)\n",
    "Return True if any element of the iterable is true. If the iterable is empty, return False. Equivalent to:\n",
    "\n",
    "def any(iterable):\n",
    "    for element in iterable:\n",
    "        if element:\n",
    "            return True\n",
    "    return False"
   ]
  },
  {
   "cell_type": "code",
   "execution_count": 38,
   "metadata": {},
   "outputs": [],
   "source": [
    "# def any(boolVec):\n",
    "#     return any(boolVec)\n",
    "\n",
    "def any(iterable):\n",
    "    for element in iterable:\n",
    "        if element:\n",
    "            return True\n",
    "    return False\n"
   ]
  },
  {
   "cell_type": "code",
   "execution_count": 39,
   "metadata": {},
   "outputs": [
    {
     "name": "stdout",
     "output_type": "stream",
     "text": [
      "Optimized: 0.000111s\n"
     ]
    }
   ],
   "source": [
    "start = time.perf_counter()\n",
    "b = any(boolVec)\n",
    "end = time.perf_counter()\n",
    "\n",
    "print(f\"Optimized: {end-start:.6f}s\")"
   ]
  },
  {
   "cell_type": "code",
   "execution_count": 40,
   "metadata": {},
   "outputs": [
    {
     "name": "stdout",
     "output_type": "stream",
     "text": [
      "16.340425531914896\n",
      "The optimized code performance improvement is 16.0 times faster.\n"
     ]
    }
   ],
   "source": [
    "c = 0.000768 / 0.000047\n",
    "print(c)\n",
    "print(f\"The optimized code performance improvement is {np.round(c)} times faster.\")"
   ]
  },
  {
   "cell_type": "code",
   "execution_count": null,
   "metadata": {},
   "outputs": [],
   "source": []
  },
  {
   "cell_type": "code",
   "execution_count": null,
   "metadata": {},
   "outputs": [],
   "source": []
  }
 ],
 "metadata": {
  "kernelspec": {
   "display_name": "Python 3 (ipykernel)",
   "language": "python",
   "name": "python3"
  },
  "language_info": {
   "codemirror_mode": {
    "name": "ipython",
    "version": 3
   },
   "file_extension": ".py",
   "mimetype": "text/x-python",
   "name": "python",
   "nbconvert_exporter": "python",
   "pygments_lexer": "ipython3",
   "version": "3.9.13"
  }
 },
 "nbformat": 4,
 "nbformat_minor": 2
}
