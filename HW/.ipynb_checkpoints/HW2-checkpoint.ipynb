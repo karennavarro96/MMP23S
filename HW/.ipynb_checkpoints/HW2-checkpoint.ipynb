{
 "cells": [
  {
   "cell_type": "markdown",
   "metadata": {},
   "source": [
    "# Homework 2"
   ]
  },
  {
   "cell_type": "markdown",
   "metadata": {},
   "source": [
    "# P1. IEEE-storage convention for real numbers"
   ]
  },
  {
   "cell_type": "markdown",
   "metadata": {},
   "source": [
    "Computers can only store a finite set of values in memory. This implies that real (floating-point) numbers, which can take on an infinite number of values, cannot be represented exactly in a computer's memory. Instead, they must be approximated by a finite set of binary digits. This approximation introduces rounding errors and limitations on the precision of calculations.\n",
    "\n",
    "The IEEE-storage convention for real numbers in computers specifies a standardized way to store floating-point numbers in memory using a fixed number of bits. This convention is used to ensure portability and interoperability of numerical calculations across different computer architectures and programming languages.\n",
    "\n",
    "In the IEEE-storage convention, real32, real64, and real128 bit storage formats are used to represent floating-point numbers with 32, 64, and 128 bits respectively. These formats use a fixed number of bits to represent the sign, exponent, and mantissa (also called significand) of the number.\n"
   ]
  },
  {
   "cell_type": "markdown",
   "metadata": {},
   "source": [
    "The number of representable real numbers for each format can be computed as follows:\n",
    "\n",
    "For real32:\n",
    "\n",
    "1 bit is used for the sign\n",
    "8 bits are used for the exponent\n",
    "23 bits are used for the mantissa\n",
    "This gives a total of 2^(1+8+23) = 2^32 possible combinations, which is approximately 4.3 billion.\n",
    "For real64:\n",
    "\n",
    "1 bit is used for the sign\n",
    "11 bits are used for the exponent\n",
    "52 bits are used for the mantissa\n",
    "This gives a total of 2^(1+11+52) = 2^64 possible combinations, which is approximately 18.4 quintillion.\n",
    "For real128:\n",
    "\n",
    "1 bit is used for the sign\n",
    "15 bits are used for the exponent\n",
    "112 bits are used for the mantissa\n",
    "This gives a total of 2^(1+15+112) = 2^128 possible combinations, which is an extremely large number.\n",
    "The number of representable real numbers in the range [0,1) for each storage convention can be computed by considering the exponent and mantissa ranges.\n",
    "\n",
    "For real32:\n",
    "\n",
    "The exponent range is -126 to 127, which gives a total of 254 possible exponents.\n",
    "The mantissa range is from 1 to (1 - 2^-23), which gives a total of (2^23 - 1) possible mantissa values.\n",
    "Combining these, we get a total of 2^23 * 254 = 6,805,632 representable real numbers in the range [0,1) for real32.\n",
    "For real64:\n",
    "\n",
    "The exponent range is -1022 to 1023, which gives a total of 2046 possible exponents.\n",
    "The mantissa range is from 1 to (1 - 2^-52), which gives a total of (2^52 - 1) possible mantissa values.\n",
    "Combining these, we get a total of 2^52 * 2046 = 1.8 x 10^19 representable real numbers in the range [0,1) for real64.\n",
    "For real128:\n",
    "\n",
    "The exponent range is -16382 to 16383, which gives a total of 32766 possible exponents.\n",
    "The mantissa range is from 1 to (1 - 2^-112), which gives a total of (2^112 - 1) possible mantissa values.\n",
    "Combining these, we get a total of 2^112 * 32766 = 5.5 x 10^33 representable real numbers in the range [0,1) for real128.\n",
    "The minimum and maximum possible representable real values in these conventions depend on the exponent and mantissa ranges.\n",
    "\n",
    "For real32:\n",
    "\n",
    "The minimum positive representable value is 2^-149 (the smallest possible mantissa multiplied by 2^-126, the smallest possible exponent).\n",
    "The maximum representable value is (2 - 2^-23) * 2^127 (the largest possible mantissa multiplied by 2^127, the largest possible exponent).\n",
    "For real64:\n",
    "\n",
    "The minimum positive representable value is 2^-1074 (the smallest possible mantissa multiplied by 2^-1022, the smallest possible exponent).\n",
    "The maximum representable value is (2 - 2^-52) * 2^1023 (the largest possible mantissa multiplied by 2^1023, the largest possible exponent).\n",
    "For real128:\n",
    "\n",
    "The minimum positive representable value is 2^-16494 (the smallest possible mantissa multiplied by 2^-16382, the smallest possible"
   ]
  },
  {
   "cell_type": "markdown",
   "metadata": {},
   "source": [
    "# P2. Integer Overflow"
   ]
  },
  {
   "cell_type": "code",
   "execution_count": 1,
   "metadata": {},
   "outputs": [],
   "source": [
    "import numpy as np"
   ]
  },
  {
   "cell_type": "code",
   "execution_count": 13,
   "metadata": {},
   "outputs": [
    {
     "name": "stdout",
     "output_type": "stream",
     "text": [
      "-128\n",
      "127\n"
     ]
    }
   ],
   "source": [
    "ii8 = np.iinfo(np.int8)\n",
    "print(ii8.min)\n",
    "print(ii8.max)"
   ]
  },
  {
   "cell_type": "code",
   "execution_count": 5,
   "metadata": {},
   "outputs": [
    {
     "name": "stdout",
     "output_type": "stream",
     "text": [
      "-32768\n",
      "32767\n"
     ]
    }
   ],
   "source": [
    "ii16 = np.iinfo(np.int16)\n",
    "print(ii16.min)\n",
    "print(ii16.max)"
   ]
  },
  {
   "cell_type": "code",
   "execution_count": 6,
   "metadata": {},
   "outputs": [
    {
     "name": "stdout",
     "output_type": "stream",
     "text": [
      "-2147483648\n",
      "2147483647\n"
     ]
    }
   ],
   "source": [
    "ii32 = np.iinfo(np.int32)\n",
    "print(ii32.min)\n",
    "print(ii32.max)"
   ]
  },
  {
   "cell_type": "markdown",
   "metadata": {},
   "source": [
    "# P3. Python aliasing vs. copying variables"
   ]
  },
  {
   "cell_type": "markdown",
   "metadata": {},
   "source": [
    "## Part A"
   ]
  },
  {
   "cell_type": "code",
   "execution_count": 15,
   "metadata": {},
   "outputs": [
    {
     "name": "stdout",
     "output_type": "stream",
     "text": [
      "4477785328 4477785328\n",
      "5 3 5\n",
      "4477785328 4477785264 4477785328\n",
      "4477785328 4477785328\n"
     ]
    }
   ],
   "source": [
    "a = 5\n",
    "b = a\n",
    "print (id(a), id(b))\n",
    " \n",
    "c = b\n",
    "b = 3\n",
    "print (a,b,c)\n",
    "print (id(a),id(b),id(c))\n",
    " \n",
    "b = a\n",
    "b = 5\n",
    "print (id(a), id(b))"
   ]
  },
  {
   "cell_type": "markdown",
   "metadata": {},
   "source": [
    "Part A \n",
    "\n",
    "From definitions when I google python print(id()):\n",
    "Python id() function accepts a single parameter and returns a unique identity (integer value) of that object\n",
    "\n",
    "The id() function is referenceing a variable that you have stated and checks if you have other variables that are the same. For 'a = 5 = b', the print statements returns the same value stored in memory. \n",
    "For 'print (a,b,c) , print (id(a),id(b),id(c))' the first print statment returns the values for each variable, and second print returns the values again stored in memory for each variable. \n",
    "\n",
    "For third print statement 'print (id(a), id(b))', again the return values are those return from a unique value from memory from id(a).\n",
    "\n",
    "\n"
   ]
  },
  {
   "cell_type": "markdown",
   "metadata": {},
   "source": [
    "## Part B"
   ]
  },
  {
   "cell_type": "code",
   "execution_count": 1,
   "metadata": {},
   "outputs": [
    {
     "name": "stdout",
     "output_type": "stream",
     "text": [
      "140614840074632 140614840074632\n",
      "[5, 1] [5, 1]\n",
      "140614840074632 140614840074632\n"
     ]
    }
   ],
   "source": [
    "a = [5]\n",
    "b = a\n",
    "print (id(a), id(b))\n",
    " \n",
    "b.append(1)\n",
    "print (a,b)\n",
    "print (id(a),id(b))"
   ]
  },
  {
   "cell_type": "markdown",
   "metadata": {},
   "source": [
    "Part B\n",
    "\n",
    "The first print statement is allocating the unique identity stored in memory for b pointing to a.\n",
    "\n",
    "The second print statement is returning the appended list of b pointing to [5].\n",
    "\n",
    "The third print statement is once again allocating the unique identity stored in memory.\n",
    "\n",
    "(Note, I did this part another day from Part A and hence returning different ID's for a and b."
   ]
  },
  {
   "cell_type": "markdown",
   "metadata": {},
   "source": [
    "## Part C"
   ]
  },
  {
   "cell_type": "code",
   "execution_count": 2,
   "metadata": {},
   "outputs": [
    {
     "name": "stdout",
     "output_type": "stream",
     "text": [
      "[5] [5]\n",
      "140614839653896 140614841235656\n",
      "[5] [5]\n",
      "140614839653896 140614839955848\n"
     ]
    }
   ],
   "source": [
    "a = [5]\n",
    "b = list(a)\n",
    "print (a,b)\n",
    "print (id(a), id(b))\n",
    " \n",
    "b = a[:]\n",
    "print (a,b)\n",
    "print (id(a), id(b))"
   ]
  },
  {
   "cell_type": "markdown",
   "metadata": {},
   "source": [
    "Part C\n",
    "\n",
    "The first print statement is returning a and making a list of a. \n",
    "\n",
    "The second print statement is again allocating in memory the saved value for a and b. In this case [list(a)] is changing the value stored in memory. Giving it a new value for creating a list.\n",
    "\n",
    "The third print statment is taking a and printing for b a slice index of the list. This is telling b to list all values of a, hence printing what a is.\n",
    "\n",
    "The fourth statement is returning a fro memory and changing a new stored value for b as its a new value by the index call."
   ]
  },
  {
   "cell_type": "markdown",
   "metadata": {},
   "source": [
    "## Part D"
   ]
  },
  {
   "cell_type": "code",
   "execution_count": 4,
   "metadata": {},
   "outputs": [
    {
     "name": "stdout",
     "output_type": "stream",
     "text": [
      "140614840082104 140614840082104\n",
      "140614840082104 140614840082104\n"
     ]
    }
   ],
   "source": [
    "a = (5,)\n",
    "b = tuple(a)\n",
    "print (id(a), id(b))\n",
    " \n",
    "b = a[:]\n",
    "print (id(a), id(b))"
   ]
  },
  {
   "cell_type": "markdown",
   "metadata": {},
   "source": [
    "Part D\n",
    "\n",
    "Tuples are used to store different items in a single variable (almost like a list). \n",
    "\n",
    "In this case the first print statement is allocating a new value from the previous Parts because we are making new values for a and b. \n",
    "\n",
    "The second print statement is returning the same values as the first because in this case: the format (5,) and tuples are doing the same feature by saving items in one variable. Hence printing the same id stored in memory. "
   ]
  },
  {
   "cell_type": "markdown",
   "metadata": {},
   "source": [
    "# P4. Python script call from the Bash command line"
   ]
  },
  {
   "cell_type": "markdown",
   "metadata": {},
   "source": [
    "# P5. Modifying the index of a for-loop"
   ]
  },
  {
   "cell_type": "code",
   "execution_count": 11,
   "metadata": {},
   "outputs": [
    {
     "name": "stdout",
     "output_type": "stream",
     "text": [
      "[0, 1, 2, 3, 4, 5, 6, 7, 8, 9]\n"
     ]
    }
   ],
   "source": [
    "numbers = list(range(10))\n",
    "print(numbers)"
   ]
  },
  {
   "cell_type": "code",
   "execution_count": 12,
   "metadata": {},
   "outputs": [
    {
     "name": "stdout",
     "output_type": "stream",
     "text": [
      "5\n"
     ]
    }
   ],
   "source": [
    "print(len(numbers)//2)"
   ]
  },
  {
   "cell_type": "code",
   "execution_count": 13,
   "metadata": {},
   "outputs": [
    {
     "name": "stdout",
     "output_type": "stream",
     "text": [
      "n=0, del 5 [0, 1, 2, 3, 4, 6, 7, 8, 9]\n",
      "n=1, del 4 [0, 1, 2, 3, 6, 7, 8, 9]\n",
      "n=2, del 4 [0, 1, 2, 3, 7, 8, 9]\n",
      "n=3, del 3 [0, 1, 2, 7, 8, 9]\n",
      "n=8, del 3 [0, 1, 2, 8, 9]\n"
     ]
    }
   ],
   "source": [
    "for n in numbers:\n",
    "    i = len(numbers)//2\n",
    "    del numbers[i]\n",
    "    print ('n={}, del {}'.format(n,i), numbers)"
   ]
  },
  {
   "cell_type": "markdown",
   "metadata": {},
   "source": [
    "In the first for loop, the first item in the list is zero, hence printing n=0; the del prints print(len(numbers)//2) = 5, hence the del 5, finally it prints numbers minus the number you called to delete out. \n",
    "\n",
    "The second for loop takes in the second item, hence n=1, the del prints 4 because the list now contains 8 values, 8/2=4. Finally it prints the remaining list missing the 5 from the first for loop and now the 4 for the second loop.\n",
    "\n",
    "In the third for loop the third item is 2, hence n=2, the del print 4 because its rounding up the nearest integer (4). Finally it prints the remaining list missing 5,6,4.\n",
    "\n",
    "The fourth for loop it looks for the next value in the list, hence n=3. The del deletes the 3 because 6/2=3. And it prints the list of numbers remaining, missing 3,4,5,6.\n",
    "\n",
    "The final loop looks for the next value in the list, it being n=8 because its the 5th value in the previous list. It deletes 3 because 5/2=2.5, where it rounds up to the nearest integer. The print statement then returns the final list after all loops have been finished."
   ]
  },
  {
   "cell_type": "markdown",
   "metadata": {},
   "source": [
    "# P6.Impact of machine precision on numerical computation"
   ]
  },
  {
   "cell_type": "code",
   "execution_count": 17,
   "metadata": {},
   "outputs": [
    {
     "name": "stdout",
     "output_type": "stream",
     "text": [
      "............... 1.0\n",
      "............... 0.5\n",
      "............... 0.25\n",
      "............... 0.125\n",
      "............... 0.0625\n",
      "............... 0.03125\n",
      "............... 0.015625\n",
      "............... 0.0078125\n",
      "............... 0.00390625\n",
      "............... 0.001953125\n",
      "............... 0.0009765625\n",
      "............... 0.00048828125\n",
      "............... 0.000244140625\n",
      "............... 0.0001220703125\n",
      "............... 6.103515625e-05\n",
      "............... 3.0517578125e-05\n",
      "............... 1.52587890625e-05\n",
      "............... 7.62939453125e-06\n",
      "............... 3.814697265625e-06\n",
      "............... 1.9073486328125e-06\n",
      "............... 9.5367431640625e-07\n",
      "............... 4.76837158203125e-07\n",
      "............... 2.384185791015625e-07\n",
      "............... 1.1920928955078125e-07\n",
      "............... 5.960464477539063e-08\n",
      "............... 2.9802322387695312e-08\n",
      "............... 1.4901161193847656e-08\n",
      "............... 7.450580596923828e-09\n",
      "............... 3.725290298461914e-09\n",
      "............... 1.862645149230957e-09\n",
      "............... 9.313225746154785e-10\n",
      "............... 4.656612873077393e-10\n",
      "............... 2.3283064365386963e-10\n",
      "............... 1.1641532182693481e-10\n",
      "............... 5.820766091346741e-11\n",
      "............... 2.9103830456733704e-11\n",
      "............... 1.4551915228366852e-11\n",
      "............... 7.275957614183426e-12\n",
      "............... 3.637978807091713e-12\n",
      "............... 1.8189894035458565e-12\n",
      "............... 9.094947017729282e-13\n",
      "............... 4.547473508864641e-13\n",
      "............... 2.2737367544323206e-13\n",
      "............... 1.1368683772161603e-13\n",
      "............... 5.684341886080802e-14\n",
      "............... 2.842170943040401e-14\n",
      "............... 1.4210854715202004e-14\n",
      "............... 7.105427357601002e-15\n",
      "............... 3.552713678800501e-15\n",
      "............... 1.7763568394002505e-15\n",
      "............... 8.881784197001252e-16\n",
      "............... 4.440892098500626e-16\n",
      "............... 2.220446049250313e-16\n",
      "final eps: 1.1102230246251565e-16\n"
     ]
    }
   ],
   "source": [
    "eps = 1.0\n",
    "while 1.0 != 1.0 + eps:\n",
    "    print ('...............', eps)\n",
    "    eps /= 2.0\n",
    "print ('final eps:', eps)"
   ]
  },
  {
   "cell_type": "markdown",
   "metadata": {},
   "source": [
    "In this example, it starts a for loop signalling to print out a value (not equal to 1.0) and then dividing that value by 2. Hence it continues to print out values, by dividing the previous value by 2. \n",
    "\n",
    "The first value it printed out, is 1.0 because it starts off by saying 1.0 :/ (does not equal) 1.0 + eps (1.0). Hence 1.0 :/ 2.0. Then, 2.0 /= 2.0 is 1.0. Printing out the first value of 1.0. the rest of the values are then dividing by 2. \n",
    "\n",
    "It stops at [2.220446049250313e-16] because of pythons standard accuracy of 64. I googled the \"machine epsilon\" = \"round-off error for a floating-point number with a certain amount of precision\". From the following the print out numbers reach a threshold where the accuracy falls out. And the only known value of nonzero is returned, this being the machine epsilon."
   ]
  },
  {
   "cell_type": "markdown",
   "metadata": {},
   "source": [
    "# P7. Impact of round-off errors on numerical computations"
   ]
  },
  {
   "cell_type": "code",
   "execution_count": 21,
   "metadata": {},
   "outputs": [
    {
     "name": "stdout",
     "output_type": "stream",
     "text": [
      "With 1 times sqrt and then 1 times **2, the number 2.0 becomes: 2.0000000000000004\n",
      "With 2 times sqrt and then 2 times **2, the number 2.0 becomes: 1.9999999999999996\n",
      "With 3 times sqrt and then 3 times **2, the number 2.0 becomes: 1.9999999999999996\n",
      "With 4 times sqrt and then 4 times **2, the number 2.0 becomes: 1.9999999999999964\n",
      "With 5 times sqrt and then 5 times **2, the number 2.0 becomes: 1.9999999999999964\n",
      "With 6 times sqrt and then 6 times **2, the number 2.0 becomes: 1.9999999999999964\n",
      "With 7 times sqrt and then 7 times **2, the number 2.0 becomes: 1.9999999999999714\n",
      "With 8 times sqrt and then 8 times **2, the number 2.0 becomes: 2.0000000000000235\n",
      "With 9 times sqrt and then 9 times **2, the number 2.0 becomes: 2.0000000000000235\n",
      "With 10 times sqrt and then 10 times **2, the number 2.0 becomes: 2.0000000000000235\n",
      "With 11 times sqrt and then 11 times **2, the number 2.0 becomes: 2.0000000000000235\n",
      "With 12 times sqrt and then 12 times **2, the number 2.0 becomes: 1.9999999999991336\n",
      "With 13 times sqrt and then 13 times **2, the number 2.0 becomes: 1.9999999999973292\n",
      "With 14 times sqrt and then 14 times **2, the number 2.0 becomes: 1.9999999999973292\n",
      "With 15 times sqrt and then 15 times **2, the number 2.0 becomes: 1.9999999999973292\n",
      "With 16 times sqrt and then 16 times **2, the number 2.0 becomes: 2.0000000000117746\n",
      "With 17 times sqrt and then 17 times **2, the number 2.0 becomes: 2.0000000000408580\n",
      "With 18 times sqrt and then 18 times **2, the number 2.0 becomes: 2.0000000000408580\n",
      "With 19 times sqrt and then 19 times **2, the number 2.0 becomes: 2.0000000001573586\n",
      "With 20 times sqrt and then 20 times **2, the number 2.0 becomes: 2.0000000001573586\n",
      "With 21 times sqrt and then 21 times **2, the number 2.0 becomes: 2.0000000001573586\n",
      "With 22 times sqrt and then 22 times **2, the number 2.0 becomes: 2.0000000010885857\n",
      "With 23 times sqrt and then 23 times **2, the number 2.0 becomes: 2.0000000029511749\n",
      "With 24 times sqrt and then 24 times **2, the number 2.0 becomes: 2.0000000066771721\n",
      "With 25 times sqrt and then 25 times **2, the number 2.0 becomes: 2.0000000066771721\n",
      "With 26 times sqrt and then 26 times **2, the number 2.0 becomes: 1.9999999917774933\n",
      "With 27 times sqrt and then 27 times **2, the number 2.0 becomes: 1.9999999917774933\n",
      "With 28 times sqrt and then 28 times **2, the number 2.0 becomes: 1.9999999917774933\n",
      "With 29 times sqrt and then 29 times **2, the number 2.0 becomes: 1.9999999917774933\n",
      "With 30 times sqrt and then 30 times **2, the number 2.0 becomes: 1.9999999917774933\n",
      "With 31 times sqrt and then 31 times **2, the number 2.0 becomes: 1.9999999917774933\n",
      "With 32 times sqrt and then 32 times **2, the number 2.0 becomes: 1.9999990380770896\n",
      "With 33 times sqrt and then 33 times **2, the number 2.0 becomes: 1.9999971307544144\n",
      "With 34 times sqrt and then 34 times **2, the number 2.0 becomes: 1.9999971307544144\n",
      "With 35 times sqrt and then 35 times **2, the number 2.0 becomes: 1.9999971307544144\n",
      "With 36 times sqrt and then 36 times **2, the number 2.0 becomes: 1.9999971307544144\n",
      "With 37 times sqrt and then 37 times **2, the number 2.0 becomes: 1.9999971307544144\n",
      "With 38 times sqrt and then 38 times **2, the number 2.0 becomes: 1.9999360966436217\n",
      "With 39 times sqrt and then 39 times **2, the number 2.0 becomes: 1.9999360966436217\n",
      "With 40 times sqrt and then 40 times **2, the number 2.0 becomes: 1.9999360966436217\n",
      "With 41 times sqrt and then 41 times **2, the number 2.0 becomes: 1.9994478907329654\n",
      "With 42 times sqrt and then 42 times **2, the number 2.0 becomes: 1.9984718365144798\n",
      "With 43 times sqrt and then 43 times **2, the number 2.0 becomes: 1.9965211562778555\n",
      "With 44 times sqrt and then 44 times **2, the number 2.0 becomes: 1.9965211562778555\n",
      "With 45 times sqrt and then 45 times **2, the number 2.0 becomes: 1.9887374575497223\n",
      "With 46 times sqrt and then 46 times **2, the number 2.0 becomes: 1.9887374575497223\n",
      "With 47 times sqrt and then 47 times **2, the number 2.0 becomes: 1.9887374575497223\n",
      "With 48 times sqrt and then 48 times **2, the number 2.0 becomes: 1.9887374575497223\n",
      "With 49 times sqrt and then 49 times **2, the number 2.0 becomes: 1.8682459487159784\n",
      "With 50 times sqrt and then 50 times **2, the number 2.0 becomes: 1.6487212645509468\n",
      "With 51 times sqrt and then 51 times **2, the number 2.0 becomes: 1.6487212645509468\n",
      "With 52 times sqrt and then 52 times **2, the number 2.0 becomes: 1.0000000000000000\n",
      "With 53 times sqrt and then 53 times **2, the number 2.0 becomes: 1.0000000000000000\n",
      "With 54 times sqrt and then 54 times **2, the number 2.0 becomes: 1.0000000000000000\n",
      "With 55 times sqrt and then 55 times **2, the number 2.0 becomes: 1.0000000000000000\n",
      "With 56 times sqrt and then 56 times **2, the number 2.0 becomes: 1.0000000000000000\n",
      "With 57 times sqrt and then 57 times **2, the number 2.0 becomes: 1.0000000000000000\n",
      "With 58 times sqrt and then 58 times **2, the number 2.0 becomes: 1.0000000000000000\n",
      "With 59 times sqrt and then 59 times **2, the number 2.0 becomes: 1.0000000000000000\n"
     ]
    }
   ],
   "source": [
    "from math import sqrt\n",
    "\n",
    "for n in range(1, 60):\n",
    "    r_org = 2.0\n",
    "    r = r_org\n",
    "    for i in range(n):\n",
    "        r = sqrt(r)\n",
    "    for i in range(n):\n",
    "        r = r ** 2\n",
    "    print ('With {} times sqrt and then {} times **2, the number {} becomes: {:.16f}'.format(n,n,r_org,r))"
   ]
  },
  {
   "cell_type": "markdown",
   "metadata": {},
   "source": [
    "In this for loop you are using sqrt to take the square root of 2, and (doublestar 2) to square the value in order to get 2 back. In this case, their is loss to precision towards getting the result to be 2, or close to 2 after 52 times in the foor loop. After 52, the result is 1.0000000000000000, then taking the sqrt of it returns 1.0000000000000000."
   ]
  },
  {
   "cell_type": "markdown",
   "metadata": {},
   "source": [
    "# P8. String concatenation using for-loop"
   ]
  },
  {
   "cell_type": "code",
   "execution_count": 1,
   "metadata": {},
   "outputs": [],
   "source": [
    "q = [['a', 'b', 'c'], ['d', 'e', 'f'], ['g', 'h']]"
   ]
  },
  {
   "cell_type": "code",
   "execution_count": 2,
   "metadata": {},
   "outputs": [
    {
     "name": "stdout",
     "output_type": "stream",
     "text": [
      "['a' 'b' 'c' 'd' 'e' 'f' 'g' 'h']\n"
     ]
    }
   ],
   "source": [
    "import numpy as np\n",
    "\n",
    "q_2 = np.concatenate(q, axis=0)\n",
    "print(q_2)"
   ]
  },
  {
   "cell_type": "code",
   "execution_count": 4,
   "metadata": {},
   "outputs": [
    {
     "name": "stdout",
     "output_type": "stream",
     "text": [
      "a b c d e f g h\n"
     ]
    }
   ],
   "source": [
    "new_q = \" \".join(q_2)\n",
    "print(new_q)"
   ]
  },
  {
   "cell_type": "markdown",
   "metadata": {},
   "source": [
    "# P9. Computing the Fibonacci sequence via for-loop"
   ]
  },
  {
   "cell_type": "markdown",
   "metadata": {},
   "source": [
    "## Part A"
   ]
  },
  {
   "cell_type": "code",
   "execution_count": 3,
   "metadata": {},
   "outputs": [],
   "source": [
    "# from fib.py\n",
    "\n",
    "def fib():\n",
    "\n",
    "    def getFib(n_int):\n",
    "        if n_int > 1:\n",
    "            fib = getFib(n_int-1) + getFib(n_int-2);\n",
    "        elif n_int == 1:\n",
    "            fib = 1\n",
    "        else:\n",
    "            fib = 0\n",
    "        return fib\n",
    "\n",
    "    n = input('Please enter a non-negative integer or type stop: ')\n",
    "    if n==\"stop\":\n",
    "        return None\n",
    "    else:\n",
    "        n = int(n);\n",
    "        print( \"fib({}) = {}\".format(n,getFib(n)) );\n",
    "        fib()\n",
    "        return None"
   ]
  },
  {
   "cell_type": "code",
   "execution_count": 4,
   "metadata": {},
   "outputs": [
    {
     "name": "stdout",
     "output_type": "stream",
     "text": [
      "Please enter a non-negative integer or type stop: 0\n",
      "fib(0) = 0\n",
      "Please enter a non-negative integer or type stop: 1\n",
      "fib(1) = 1\n",
      "Please enter a non-negative integer or type stop: 2\n",
      "fib(2) = 1\n",
      "Please enter a non-negative integer or type stop: stop\n"
     ]
    }
   ],
   "source": [
    "fib()"
   ]
  },
  {
   "cell_type": "code",
   "execution_count": 5,
   "metadata": {},
   "outputs": [],
   "source": [
    "from time import process_time\n",
    "\n",
    "def fib():\n",
    "\n",
    "    def getFib(n_int):\n",
    "        if n_int > 1:\n",
    "            fib = getFib(n_int-1) + getFib(n_int-2);\n",
    "        elif n_int == 1:\n",
    "            fib = 1\n",
    "        else:\n",
    "            fib = 0\n",
    "        return fib\n",
    "    \n",
    "\n",
    "    n = input('Please enter a non-negative integer or type stop: ')\n",
    "    if n==\"stop\":\n",
    "        return None\n",
    "    else:\n",
    "        n = int(n);\n",
    "        print( \"fib({}) = {}\".format(n,getFib(n)) );\n",
    "        time = process_time()\n",
    "        print( \"average runtime = {} seconds\".format(time,getFib(n)) );\n",
    "        fib()\n",
    "        return None"
   ]
  },
  {
   "cell_type": "code",
   "execution_count": 6,
   "metadata": {},
   "outputs": [
    {
     "name": "stdout",
     "output_type": "stream",
     "text": [
      "Please enter a non-negative integer or type stop: 0\n",
      "fib(0) = 0\n",
      "average runtime = 1.63409 seconds\n",
      "Please enter a non-negative integer or type stop: 1\n",
      "fib(1) = 1\n",
      "average runtime = 1.640636 seconds\n",
      "Please enter a non-negative integer or type stop: 2\n",
      "fib(2) = 1\n",
      "average runtime = 1.647116 seconds\n",
      "Please enter a non-negative integer or type stop: 10\n",
      "fib(10) = 55\n",
      "average runtime = 1.66647 seconds\n",
      "Please enter a non-negative integer or type stop: stop\n"
     ]
    }
   ],
   "source": [
    "fib()"
   ]
  },
  {
   "cell_type": "markdown",
   "metadata": {},
   "source": [
    "## Part B"
   ]
  },
  {
   "cell_type": "code",
   "execution_count": null,
   "metadata": {},
   "outputs": [],
   "source": [
    "from time import process_time\n",
    "\n",
    "def fibLoop():\n",
    "\n",
    "    def getFib(n_int):\n",
    "        if n_int > 1:\n",
    "            fib = getFib(n_int-1) + getFib(n_int-2);\n",
    "        elif n_int == 1:\n",
    "            fib = 1\n",
    "        else:\n",
    "            fib = 0\n",
    "        return fib\n",
    "    \n",
    "\n",
    "    n = input('Please enter a non-negative integer or type stop: ')\n",
    "    if n==\"stop\":\n",
    "        return None\n",
    "    else:\n",
    "        n = int(n);\n",
    "        print( \"fib({}) = {}\".format(n,getFib(n)) );\n",
    "        time = process_time()\n",
    "        print( \"average runtime = {} seconds\".format(time,getFib(n)) );\n",
    "        fib()\n",
    "        return None"
   ]
  },
  {
   "cell_type": "code",
   "execution_count": 7,
   "metadata": {},
   "outputs": [
    {
     "ename": "SyntaxError",
     "evalue": "invalid syntax (<ipython-input-7-1008104c6331>, line 6)",
     "output_type": "error",
     "traceback": [
      "\u001b[0;36m  File \u001b[0;32m\"<ipython-input-7-1008104c6331>\"\u001b[0;36m, line \u001b[0;32m6\u001b[0m\n\u001b[0;31m    for n_int > 1:\u001b[0m\n\u001b[0m              ^\u001b[0m\n\u001b[0;31mSyntaxError\u001b[0m\u001b[0;31m:\u001b[0m invalid syntax\n"
     ]
    }
   ],
   "source": [
    "from time import process_time\n",
    "\n",
    "def fibLoop():\n",
    "\n",
    "    def getFib(n_int):\n",
    "        for n_int > 1:\n",
    "            fib = getFib(n_int-1) + getFib(n_int-2);\n",
    "            if n_int == 1:\n",
    "                fib = 1\n",
    "            if\n",
    "                fib = 0\n",
    "            return fib\n",
    "    \n",
    "\n",
    "    n = input('Please enter a non-negative integer or type stop: ')\n",
    "    if n==\"stop\":\n",
    "        return None\n",
    "    else:\n",
    "        n = int(n);\n",
    "        print( \"fib({}) = {}\".format(n,getFib(n)) );\n",
    "        time = process_time()\n",
    "        print( \"average runtime = {} seconds\".format(time,getFib(n)) );\n",
    "        fib()\n",
    "        return None"
   ]
  },
  {
   "cell_type": "markdown",
   "metadata": {},
   "source": [
    "# P10. Getting the largest prime number smaller than the input value"
   ]
  },
  {
   "cell_type": "code",
   "execution_count": 8,
   "metadata": {},
   "outputs": [],
   "source": [
    "def isPrime(n):\n",
    "    \n",
    "    isPrime = True\n",
    "    \n",
    "    def is_divisible(n,divisor):\n",
    "        if n<(divisor-1)*divisor: return False\n",
    "        if n%divisor==0: return True\n",
    "        else:\n",
    "            divisor += 1\n",
    "            return is_divisible(n,divisor)\n",
    "\n",
    "    if n==2:\n",
    "        isPrime = True\n",
    "    elif is_divisible(n,divisor=2):\n",
    "        isPrime = False\n",
    "    return isPrime\n",
    "\n",
    "def getNumPrimes(n):\n",
    "    if n <= 2:\n",
    "        return 0\n",
    "    else:\n",
    "        return isPrime(n-1) + getNumPrimes(n-1)"
   ]
  },
  {
   "cell_type": "code",
   "execution_count": 16,
   "metadata": {},
   "outputs": [
    {
     "data": {
      "text/plain": [
       "5"
      ]
     },
     "execution_count": 16,
     "metadata": {},
     "output_type": "execute_result"
    }
   ],
   "source": [
    "getNumPrimes(13)"
   ]
  },
  {
   "cell_type": "markdown",
   "metadata": {},
   "source": [
    "## Part A"
   ]
  },
  {
   "cell_type": "code",
   "execution_count": 23,
   "metadata": {},
   "outputs": [],
   "source": [
    "def isPrime_for(n):\n",
    "    \n",
    "    isPrime_for = True\n",
    "    \n",
    "    def is_divisible(n,divisor):\n",
    "        if n<(divisor-1)*divisor: return False\n",
    "        if n%divisor==0: return True\n",
    "        else:\n",
    "            divisor += 1\n",
    "            return is_divisible(n,divisor)\n",
    "\n",
    "    if n==2:\n",
    "        isPrime_for = True\n",
    "    elif is_divisible(n,divisor=2):\n",
    "        isPrime_for = False\n",
    "    return isPrime_for\n",
    "\n",
    "def get_prime_for(n):\n",
    "    if n <= 2:\n",
    "        return 0\n",
    "    else:\n",
    "        return isPrime_for(n-1) + getNumPrimes(n-1)"
   ]
  },
  {
   "cell_type": "code",
   "execution_count": 24,
   "metadata": {},
   "outputs": [
    {
     "data": {
      "text/plain": [
       "5"
      ]
     },
     "execution_count": 24,
     "metadata": {},
     "output_type": "execute_result"
    }
   ],
   "source": [
    "get_prime_for(13)"
   ]
  },
  {
   "cell_type": "code",
   "execution_count": 31,
   "metadata": {},
   "outputs": [],
   "source": [
    "def isprime(n):\n",
    "\n",
    "    \"\"\"Checks if n is a prime number\"\"\"\n",
    "    x = 1\n",
    "    if n < 2:\n",
    "        return x\n",
    "    else:\n",
    "        for x in range(2,int(n**0.5)+1):\n",
    "            if n % x == 0:\n",
    "                return x\n",
    "        return n"
   ]
  },
  {
   "cell_type": "code",
   "execution_count": 32,
   "metadata": {},
   "outputs": [
    {
     "data": {
      "text/plain": [
       "13"
      ]
     },
     "execution_count": 32,
     "metadata": {},
     "output_type": "execute_result"
    }
   ],
   "source": [
    "isprime(13)"
   ]
  },
  {
   "cell_type": "code",
   "execution_count": 33,
   "metadata": {},
   "outputs": [
    {
     "name": "stdout",
     "output_type": "stream",
     "text": [
      "13: 13\n"
     ]
    }
   ],
   "source": [
    "print(\"13:\", isprime(13))"
   ]
  },
  {
   "cell_type": "code",
   "execution_count": 4,
   "metadata": {},
   "outputs": [],
   "source": [
    "def is_prime_for(x):\n",
    "    if x > 1:\n",
    "        n = x // 2\n",
    "        for i in range(2, n + 1):\n",
    "            if x % i == 0:\n",
    "                return False\n",
    "        return True\n",
    "    else:\n",
    "        return False\n",
    "\n",
    "def get_primes_for(n):\n",
    "    count = 0\n",
    "    for i in range(2,n):\n",
    "        if is_prime_for(i):\n",
    "            count += 1\n",
    "    return count"
   ]
  },
  {
   "cell_type": "code",
   "execution_count": 5,
   "metadata": {},
   "outputs": [
    {
     "data": {
      "text/plain": [
       "5"
      ]
     },
     "execution_count": 5,
     "metadata": {},
     "output_type": "execute_result"
    }
   ],
   "source": [
    "get_primes_for(13)"
   ]
  },
  {
   "cell_type": "markdown",
   "metadata": {},
   "source": [
    "# P11. Computing the Fibonacci sequence via recursive function calls"
   ]
  },
  {
   "cell_type": "code",
   "execution_count": 47,
   "metadata": {},
   "outputs": [],
   "source": [
    "def fibonacci(n):\n",
    "    if n <= 1:\n",
    "        return n\n",
    "    return fibonacci(n-1) + fibonacci(n-2)"
   ]
  },
  {
   "cell_type": "code",
   "execution_count": 49,
   "metadata": {},
   "outputs": [
    {
     "data": {
      "text/plain": [
       "13"
      ]
     },
     "execution_count": 49,
     "metadata": {},
     "output_type": "execute_result"
    }
   ],
   "source": [
    "fibonacci(7)"
   ]
  },
  {
   "cell_type": "markdown",
   "metadata": {},
   "source": [
    "# P12. Finding the position of the maximum value of an array via recursive function calls"
   ]
  },
  {
   "cell_type": "code",
   "execution_count": 1,
   "metadata": {},
   "outputs": [],
   "source": [
    "def max_val(t):  \n",
    "    # Your code here\n",
    "    result = 0\n",
    "    for e in t:\n",
    "        try:\n",
    "            if e > result:\n",
    "                result = e\n",
    "        except:\n",
    "            if max_val(e) > result:\n",
    "                result = max_val(e)\n",
    "    return result\n"
   ]
  },
  {
   "cell_type": "code",
   "execution_count": 2,
   "metadata": {},
   "outputs": [
    {
     "name": "stdout",
     "output_type": "stream",
     "text": [
      "5\n",
      "9\n"
     ]
    }
   ],
   "source": [
    "print(max_val((5, (1, 2), [[1], [2]])))\n",
    "print(max_val((5, (1, 2), [[1], [9]])))"
   ]
  },
  {
   "cell_type": "code",
   "execution_count": 3,
   "metadata": {},
   "outputs": [
    {
     "name": "stdout",
     "output_type": "stream",
     "text": [
      "4.5\n"
     ]
    }
   ],
   "source": [
    "print(max_val(([1,2,-3,4.5,2,-1])))"
   ]
  },
  {
   "cell_type": "markdown",
   "metadata": {},
   "source": [
    "# P13. Best visualization coloring"
   ]
  },
  {
   "cell_type": "markdown",
   "metadata": {},
   "source": [
    "The second color palette is the most appropriate for effective visualization communications with humans. This is because it is not pure \"red\" and \"green\". These 2 colors are not color friendly for people who are colorblind. "
   ]
  },
  {
   "cell_type": "markdown",
   "metadata": {},
   "source": [
    "# P14. Python modules and packaging"
   ]
  },
  {
   "cell_type": "code",
   "execution_count": 21,
   "metadata": {},
   "outputs": [],
   "source": [
    "from fib import fib_loop\n",
    "from fib import fib_recursive"
   ]
  },
  {
   "cell_type": "code",
   "execution_count": 22,
   "metadata": {},
   "outputs": [],
   "source": [
    "from fib_loop import *"
   ]
  },
  {
   "cell_type": "code",
   "execution_count": 23,
   "metadata": {},
   "outputs": [
    {
     "data": {
      "text/plain": [
       "5"
      ]
     },
     "execution_count": 23,
     "metadata": {},
     "output_type": "execute_result"
    }
   ],
   "source": [
    "fib(5)"
   ]
  },
  {
   "cell_type": "code",
   "execution_count": 24,
   "metadata": {},
   "outputs": [],
   "source": [
    "from fib_recursive import *"
   ]
  },
  {
   "cell_type": "code",
   "execution_count": 25,
   "metadata": {},
   "outputs": [
    {
     "data": {
      "text/plain": [
       "5"
      ]
     },
     "execution_count": 25,
     "metadata": {},
     "output_type": "execute_result"
    }
   ],
   "source": [
    "fib(5)"
   ]
  },
  {
   "cell_type": "markdown",
   "metadata": {},
   "source": [
    "# P15.Visualizing the average precipitation among the US states"
   ]
  },
  {
   "cell_type": "code",
   "execution_count": 28,
   "metadata": {},
   "outputs": [],
   "source": [
    "import pandas as pd \n",
    "import plotly.express as px"
   ]
  },
  {
   "cell_type": "code",
   "execution_count": 30,
   "metadata": {},
   "outputs": [
    {
     "name": "stdout",
     "output_type": "stream",
     "text": [
      "2023-SPRING_2232-PHYS-5319-001.pdf  \u001b[34m__pycache__\u001b[m\u001b[m/\r\n",
      "\u001b[34mGit\u001b[m\u001b[m/                                \u001b[34mfib\u001b[m\u001b[m/\r\n",
      "HW2.ipynb                           fib_loop.py\r\n",
      "\u001b[34mMMP23S\u001b[m\u001b[m/                             fib_recursive.py\r\n",
      "Notes.docx                          precipitation.csv\r\n",
      "OOP_March29.ipynb                   test.txt\r\n"
     ]
    }
   ],
   "source": [
    "ls"
   ]
  },
  {
   "cell_type": "code",
   "execution_count": 34,
   "metadata": {},
   "outputs": [],
   "source": [
    "df = pd.read_csv('precipitation.csv')\n",
    "#df=df[['state','inches','millimeters','rank']]\n",
    "# df=df[ (df['property_type']=='Single Family Residential')] \n",
    "# df.rename({'median_sale_price':'Median Sales Price ($)'},axis=1, inplace=True)\n",
    "# df['period_begin'] = pd.to_datetime(df['period_begin']).dt.date.astype(str)\n",
    "# df=df.sort_values(\"period_begin\") # Make sure you sort the time horizon column in ascending order because this column is in random order in the raw dataset"
   ]
  },
  {
   "cell_type": "code",
   "execution_count": 44,
   "metadata": {},
   "outputs": [
    {
     "data": {
      "text/html": [
       "<div>\n",
       "<style scoped>\n",
       "    .dataframe tbody tr th:only-of-type {\n",
       "        vertical-align: middle;\n",
       "    }\n",
       "\n",
       "    .dataframe tbody tr th {\n",
       "        vertical-align: top;\n",
       "    }\n",
       "\n",
       "    .dataframe thead th {\n",
       "        text-align: right;\n",
       "    }\n",
       "</style>\n",
       "<table border=\"1\" class=\"dataframe\">\n",
       "  <thead>\n",
       "    <tr style=\"text-align: right;\">\n",
       "      <th></th>\n",
       "      <th>State</th>\n",
       "      <th>Inches</th>\n",
       "      <th>Millimetres</th>\n",
       "      <th>Rank</th>\n",
       "    </tr>\n",
       "  </thead>\n",
       "  <tbody>\n",
       "    <tr>\n",
       "      <th>0</th>\n",
       "      <td>Alabama</td>\n",
       "      <td>58.3</td>\n",
       "      <td>1480</td>\n",
       "      <td>4</td>\n",
       "    </tr>\n",
       "    <tr>\n",
       "      <th>1</th>\n",
       "      <td>Alaska</td>\n",
       "      <td>22.5</td>\n",
       "      <td>572</td>\n",
       "      <td>39</td>\n",
       "    </tr>\n",
       "    <tr>\n",
       "      <th>2</th>\n",
       "      <td>Arizona</td>\n",
       "      <td>13.6</td>\n",
       "      <td>345</td>\n",
       "      <td>47</td>\n",
       "    </tr>\n",
       "    <tr>\n",
       "      <th>3</th>\n",
       "      <td>Arkansas</td>\n",
       "      <td>50.6</td>\n",
       "      <td>1284</td>\n",
       "      <td>8</td>\n",
       "    </tr>\n",
       "    <tr>\n",
       "      <th>4</th>\n",
       "      <td>California</td>\n",
       "      <td>22.2</td>\n",
       "      <td>563</td>\n",
       "      <td>40</td>\n",
       "    </tr>\n",
       "    <tr>\n",
       "      <th>5</th>\n",
       "      <td>Colorado</td>\n",
       "      <td>15.9</td>\n",
       "      <td>405</td>\n",
       "      <td>44</td>\n",
       "    </tr>\n",
       "    <tr>\n",
       "      <th>6</th>\n",
       "      <td>Connecticut</td>\n",
       "      <td>50.3</td>\n",
       "      <td>1279</td>\n",
       "      <td>9</td>\n",
       "    </tr>\n",
       "    <tr>\n",
       "      <th>7</th>\n",
       "      <td>Delaware</td>\n",
       "      <td>45.7</td>\n",
       "      <td>1160</td>\n",
       "      <td>16</td>\n",
       "    </tr>\n",
       "    <tr>\n",
       "      <th>8</th>\n",
       "      <td>Florida</td>\n",
       "      <td>54.5</td>\n",
       "      <td>1385</td>\n",
       "      <td>5</td>\n",
       "    </tr>\n",
       "    <tr>\n",
       "      <th>9</th>\n",
       "      <td>Georgia</td>\n",
       "      <td>50.7</td>\n",
       "      <td>1287</td>\n",
       "      <td>7</td>\n",
       "    </tr>\n",
       "    <tr>\n",
       "      <th>10</th>\n",
       "      <td>Hawaii</td>\n",
       "      <td>63.7</td>\n",
       "      <td>1618</td>\n",
       "      <td>1</td>\n",
       "    </tr>\n",
       "    <tr>\n",
       "      <th>11</th>\n",
       "      <td>Idaho</td>\n",
       "      <td>18.9</td>\n",
       "      <td>481</td>\n",
       "      <td>42</td>\n",
       "    </tr>\n",
       "    <tr>\n",
       "      <th>12</th>\n",
       "      <td>Illinois</td>\n",
       "      <td>39.2</td>\n",
       "      <td>996</td>\n",
       "      <td>27</td>\n",
       "    </tr>\n",
       "    <tr>\n",
       "      <th>13</th>\n",
       "      <td>Indiana</td>\n",
       "      <td>41.7</td>\n",
       "      <td>1060</td>\n",
       "      <td>26</td>\n",
       "    </tr>\n",
       "    <tr>\n",
       "      <th>14</th>\n",
       "      <td>Iowa</td>\n",
       "      <td>34.0</td>\n",
       "      <td>864</td>\n",
       "      <td>31</td>\n",
       "    </tr>\n",
       "    <tr>\n",
       "      <th>15</th>\n",
       "      <td>Kansas</td>\n",
       "      <td>28.9</td>\n",
       "      <td>733</td>\n",
       "      <td>35</td>\n",
       "    </tr>\n",
       "    <tr>\n",
       "      <th>16</th>\n",
       "      <td>Kentucky</td>\n",
       "      <td>48.9</td>\n",
       "      <td>1242</td>\n",
       "      <td>12</td>\n",
       "    </tr>\n",
       "    <tr>\n",
       "      <th>17</th>\n",
       "      <td>Louisiana</td>\n",
       "      <td>60.1</td>\n",
       "      <td>1528</td>\n",
       "      <td>2</td>\n",
       "    </tr>\n",
       "    <tr>\n",
       "      <th>18</th>\n",
       "      <td>Maine</td>\n",
       "      <td>42.2</td>\n",
       "      <td>1072</td>\n",
       "      <td>23</td>\n",
       "    </tr>\n",
       "    <tr>\n",
       "      <th>19</th>\n",
       "      <td>Maryland</td>\n",
       "      <td>44.5</td>\n",
       "      <td>1131</td>\n",
       "      <td>18</td>\n",
       "    </tr>\n",
       "    <tr>\n",
       "      <th>20</th>\n",
       "      <td>Massachusetts</td>\n",
       "      <td>47.7</td>\n",
       "      <td>1211</td>\n",
       "      <td>14</td>\n",
       "    </tr>\n",
       "    <tr>\n",
       "      <th>21</th>\n",
       "      <td>Michigan</td>\n",
       "      <td>32.8</td>\n",
       "      <td>833</td>\n",
       "      <td>32</td>\n",
       "    </tr>\n",
       "    <tr>\n",
       "      <th>22</th>\n",
       "      <td>Minnesota</td>\n",
       "      <td>27.3</td>\n",
       "      <td>693</td>\n",
       "      <td>37</td>\n",
       "    </tr>\n",
       "    <tr>\n",
       "      <th>23</th>\n",
       "      <td>Mississippi</td>\n",
       "      <td>59.0</td>\n",
       "      <td>1499</td>\n",
       "      <td>3</td>\n",
       "    </tr>\n",
       "    <tr>\n",
       "      <th>24</th>\n",
       "      <td>Missouri</td>\n",
       "      <td>42.2</td>\n",
       "      <td>1071</td>\n",
       "      <td>24</td>\n",
       "    </tr>\n",
       "    <tr>\n",
       "      <th>25</th>\n",
       "      <td>Montana</td>\n",
       "      <td>15.3</td>\n",
       "      <td>390</td>\n",
       "      <td>45</td>\n",
       "    </tr>\n",
       "    <tr>\n",
       "      <th>26</th>\n",
       "      <td>Nebraska</td>\n",
       "      <td>23.6</td>\n",
       "      <td>599</td>\n",
       "      <td>38</td>\n",
       "    </tr>\n",
       "    <tr>\n",
       "      <th>27</th>\n",
       "      <td>Nevada</td>\n",
       "      <td>9.5</td>\n",
       "      <td>241</td>\n",
       "      <td>50</td>\n",
       "    </tr>\n",
       "    <tr>\n",
       "      <th>28</th>\n",
       "      <td>New Hampshire</td>\n",
       "      <td>43.4</td>\n",
       "      <td>1103</td>\n",
       "      <td>20</td>\n",
       "    </tr>\n",
       "    <tr>\n",
       "      <th>29</th>\n",
       "      <td>New Jersey</td>\n",
       "      <td>47.1</td>\n",
       "      <td>1196</td>\n",
       "      <td>15</td>\n",
       "    </tr>\n",
       "    <tr>\n",
       "      <th>30</th>\n",
       "      <td>New Mexico</td>\n",
       "      <td>14.6</td>\n",
       "      <td>370</td>\n",
       "      <td>46</td>\n",
       "    </tr>\n",
       "    <tr>\n",
       "      <th>31</th>\n",
       "      <td>New York</td>\n",
       "      <td>41.8</td>\n",
       "      <td>1062</td>\n",
       "      <td>25</td>\n",
       "    </tr>\n",
       "    <tr>\n",
       "      <th>32</th>\n",
       "      <td>North Carolina</td>\n",
       "      <td>50.3</td>\n",
       "      <td>1279</td>\n",
       "      <td>9</td>\n",
       "    </tr>\n",
       "    <tr>\n",
       "      <th>33</th>\n",
       "      <td>North Dakota</td>\n",
       "      <td>17.8</td>\n",
       "      <td>452</td>\n",
       "      <td>43</td>\n",
       "    </tr>\n",
       "    <tr>\n",
       "      <th>34</th>\n",
       "      <td>Ohio</td>\n",
       "      <td>39.1</td>\n",
       "      <td>993</td>\n",
       "      <td>28</td>\n",
       "    </tr>\n",
       "    <tr>\n",
       "      <th>35</th>\n",
       "      <td>Oklahoma</td>\n",
       "      <td>36.5</td>\n",
       "      <td>927</td>\n",
       "      <td>30</td>\n",
       "    </tr>\n",
       "    <tr>\n",
       "      <th>36</th>\n",
       "      <td>Oregon</td>\n",
       "      <td>27.4</td>\n",
       "      <td>695</td>\n",
       "      <td>36</td>\n",
       "    </tr>\n",
       "    <tr>\n",
       "      <th>37</th>\n",
       "      <td>Pennsylvania</td>\n",
       "      <td>42.9</td>\n",
       "      <td>1089</td>\n",
       "      <td>21</td>\n",
       "    </tr>\n",
       "    <tr>\n",
       "      <th>38</th>\n",
       "      <td>Rhode Island</td>\n",
       "      <td>47.9</td>\n",
       "      <td>1218</td>\n",
       "      <td>13</td>\n",
       "    </tr>\n",
       "    <tr>\n",
       "      <th>39</th>\n",
       "      <td>South Carolina</td>\n",
       "      <td>49.8</td>\n",
       "      <td>1264</td>\n",
       "      <td>11</td>\n",
       "    </tr>\n",
       "    <tr>\n",
       "      <th>40</th>\n",
       "      <td>South Dakota</td>\n",
       "      <td>20.1</td>\n",
       "      <td>511</td>\n",
       "      <td>41</td>\n",
       "    </tr>\n",
       "    <tr>\n",
       "      <th>41</th>\n",
       "      <td>Tennessee</td>\n",
       "      <td>54.2</td>\n",
       "      <td>1376</td>\n",
       "      <td>6</td>\n",
       "    </tr>\n",
       "    <tr>\n",
       "      <th>42</th>\n",
       "      <td>Texas</td>\n",
       "      <td>28.9</td>\n",
       "      <td>734</td>\n",
       "      <td>34</td>\n",
       "    </tr>\n",
       "    <tr>\n",
       "      <th>43</th>\n",
       "      <td>Utah</td>\n",
       "      <td>12.2</td>\n",
       "      <td>310</td>\n",
       "      <td>49</td>\n",
       "    </tr>\n",
       "    <tr>\n",
       "      <th>44</th>\n",
       "      <td>Vermont</td>\n",
       "      <td>42.7</td>\n",
       "      <td>1085</td>\n",
       "      <td>22</td>\n",
       "    </tr>\n",
       "    <tr>\n",
       "      <th>45</th>\n",
       "      <td>Virginia</td>\n",
       "      <td>44.3</td>\n",
       "      <td>1125</td>\n",
       "      <td>19</td>\n",
       "    </tr>\n",
       "    <tr>\n",
       "      <th>46</th>\n",
       "      <td>Washington</td>\n",
       "      <td>38.4</td>\n",
       "      <td>976</td>\n",
       "      <td>29</td>\n",
       "    </tr>\n",
       "    <tr>\n",
       "      <th>47</th>\n",
       "      <td>West Virginia</td>\n",
       "      <td>45.2</td>\n",
       "      <td>1147</td>\n",
       "      <td>17</td>\n",
       "    </tr>\n",
       "    <tr>\n",
       "      <th>48</th>\n",
       "      <td>Wisconsin</td>\n",
       "      <td>32.6</td>\n",
       "      <td>829</td>\n",
       "      <td>33</td>\n",
       "    </tr>\n",
       "    <tr>\n",
       "      <th>49</th>\n",
       "      <td>Wyoming</td>\n",
       "      <td>12.9</td>\n",
       "      <td>328</td>\n",
       "      <td>48</td>\n",
       "    </tr>\n",
       "  </tbody>\n",
       "</table>\n",
       "</div>"
      ],
      "text/plain": [
       "             State  Inches  Millimetres  Rank\n",
       "0          Alabama    58.3         1480     4\n",
       "1           Alaska    22.5          572    39\n",
       "2          Arizona    13.6          345    47\n",
       "3         Arkansas    50.6         1284     8\n",
       "4       California    22.2          563    40\n",
       "5         Colorado    15.9          405    44\n",
       "6      Connecticut    50.3         1279     9\n",
       "7         Delaware    45.7         1160    16\n",
       "8          Florida    54.5         1385     5\n",
       "9          Georgia    50.7         1287     7\n",
       "10          Hawaii    63.7         1618     1\n",
       "11           Idaho    18.9          481    42\n",
       "12        Illinois    39.2          996    27\n",
       "13         Indiana    41.7         1060    26\n",
       "14            Iowa    34.0          864    31\n",
       "15          Kansas    28.9          733    35\n",
       "16        Kentucky    48.9         1242    12\n",
       "17       Louisiana    60.1         1528     2\n",
       "18           Maine    42.2         1072    23\n",
       "19        Maryland    44.5         1131    18\n",
       "20   Massachusetts    47.7         1211    14\n",
       "21        Michigan    32.8          833    32\n",
       "22       Minnesota    27.3          693    37\n",
       "23     Mississippi    59.0         1499     3\n",
       "24        Missouri    42.2         1071    24\n",
       "25         Montana    15.3          390    45\n",
       "26        Nebraska    23.6          599    38\n",
       "27          Nevada     9.5          241    50\n",
       "28   New Hampshire    43.4         1103    20\n",
       "29      New Jersey    47.1         1196    15\n",
       "30      New Mexico    14.6          370    46\n",
       "31        New York    41.8         1062    25\n",
       "32  North Carolina    50.3         1279     9\n",
       "33    North Dakota    17.8          452    43\n",
       "34            Ohio    39.1          993    28\n",
       "35        Oklahoma    36.5          927    30\n",
       "36          Oregon    27.4          695    36\n",
       "37    Pennsylvania    42.9         1089    21\n",
       "38    Rhode Island    47.9         1218    13\n",
       "39  South Carolina    49.8         1264    11\n",
       "40    South Dakota    20.1          511    41\n",
       "41       Tennessee    54.2         1376     6\n",
       "42           Texas    28.9          734    34\n",
       "43            Utah    12.2          310    49\n",
       "44         Vermont    42.7         1085    22\n",
       "45        Virginia    44.3         1125    19\n",
       "46      Washington    38.4          976    29\n",
       "47   West Virginia    45.2         1147    17\n",
       "48       Wisconsin    32.6          829    33\n",
       "49         Wyoming    12.9          328    48"
      ]
     },
     "execution_count": 44,
     "metadata": {},
     "output_type": "execute_result"
    }
   ],
   "source": [
    "df"
   ]
  },
  {
   "cell_type": "code",
   "execution_count": 57,
   "metadata": {},
   "outputs": [
    {
     "data": {
      "application/vnd.plotly.v1+json": {
       "config": {
        "plotlyServerURL": "https://plot.ly"
       },
       "data": [
        {
         "coloraxis": "coloraxis",
         "geo": "geo",
         "hovertemplate": "State=%{location}<br>Rank=%{z}<extra></extra>",
         "locationmode": "USA-states",
         "locations": [
          "Alabama",
          "Alaska",
          "Arizona",
          "Arkansas",
          "California",
          "Colorado",
          "Connecticut",
          "Delaware",
          "Florida",
          "Georgia",
          "Hawaii",
          "Idaho",
          "Illinois",
          "Indiana",
          "Iowa",
          "Kansas",
          "Kentucky",
          "Louisiana",
          "Maine",
          "Maryland",
          "Massachusetts",
          "Michigan",
          "Minnesota",
          "Mississippi",
          "Missouri",
          "Montana",
          "Nebraska",
          "Nevada",
          "New Hampshire",
          "New Jersey",
          "New Mexico",
          "New York",
          "North Carolina",
          "North Dakota",
          "Ohio",
          "Oklahoma",
          "Oregon",
          "Pennsylvania",
          "Rhode Island",
          "South Carolina",
          "South Dakota",
          "Tennessee",
          "Texas",
          "Utah",
          "Vermont",
          "Virginia",
          "Washington",
          "West Virginia",
          "Wisconsin",
          "Wyoming"
         ],
         "name": "",
         "type": "choropleth",
         "z": [
          4,
          39,
          47,
          8,
          40,
          44,
          9,
          16,
          5,
          7,
          1,
          42,
          27,
          26,
          31,
          35,
          12,
          2,
          23,
          18,
          14,
          32,
          37,
          3,
          24,
          45,
          38,
          50,
          20,
          15,
          46,
          25,
          9,
          43,
          28,
          30,
          36,
          21,
          13,
          11,
          41,
          6,
          34,
          49,
          22,
          19,
          29,
          17,
          33,
          48
         ]
        }
       ],
       "layout": {
        "coloraxis": {
         "colorbar": {
          "title": {
           "text": "Rank"
          }
         },
         "colorscale": [
          [
           0,
           "#fde725"
          ],
          [
           0.1111111111111111,
           "#b5de2b"
          ],
          [
           0.2222222222222222,
           "#6ece58"
          ],
          [
           0.3333333333333333,
           "#35b779"
          ],
          [
           0.4444444444444444,
           "#1f9e89"
          ],
          [
           0.5555555555555556,
           "#26828e"
          ],
          [
           0.6666666666666666,
           "#31688e"
          ],
          [
           0.7777777777777778,
           "#3e4989"
          ],
          [
           0.8888888888888888,
           "#482878"
          ],
          [
           1,
           "#440154"
          ]
         ]
        },
        "geo": {
         "center": {},
         "domain": {
          "x": [
           0,
           1
          ],
          "y": [
           0,
           1
          ]
         },
         "scope": "usa"
        },
        "legend": {
         "tracegroupgap": 0
        },
        "margin": {
         "t": 60
        },
        "template": {
         "data": {
          "bar": [
           {
            "error_x": {
             "color": "#2a3f5f"
            },
            "error_y": {
             "color": "#2a3f5f"
            },
            "marker": {
             "line": {
              "color": "#E5ECF6",
              "width": 0.5
             },
             "pattern": {
              "fillmode": "overlay",
              "size": 10,
              "solidity": 0.2
             }
            },
            "type": "bar"
           }
          ],
          "barpolar": [
           {
            "marker": {
             "line": {
              "color": "#E5ECF6",
              "width": 0.5
             },
             "pattern": {
              "fillmode": "overlay",
              "size": 10,
              "solidity": 0.2
             }
            },
            "type": "barpolar"
           }
          ],
          "carpet": [
           {
            "aaxis": {
             "endlinecolor": "#2a3f5f",
             "gridcolor": "white",
             "linecolor": "white",
             "minorgridcolor": "white",
             "startlinecolor": "#2a3f5f"
            },
            "baxis": {
             "endlinecolor": "#2a3f5f",
             "gridcolor": "white",
             "linecolor": "white",
             "minorgridcolor": "white",
             "startlinecolor": "#2a3f5f"
            },
            "type": "carpet"
           }
          ],
          "choropleth": [
           {
            "colorbar": {
             "outlinewidth": 0,
             "ticks": ""
            },
            "type": "choropleth"
           }
          ],
          "contour": [
           {
            "colorbar": {
             "outlinewidth": 0,
             "ticks": ""
            },
            "colorscale": [
             [
              0,
              "#0d0887"
             ],
             [
              0.1111111111111111,
              "#46039f"
             ],
             [
              0.2222222222222222,
              "#7201a8"
             ],
             [
              0.3333333333333333,
              "#9c179e"
             ],
             [
              0.4444444444444444,
              "#bd3786"
             ],
             [
              0.5555555555555556,
              "#d8576b"
             ],
             [
              0.6666666666666666,
              "#ed7953"
             ],
             [
              0.7777777777777778,
              "#fb9f3a"
             ],
             [
              0.8888888888888888,
              "#fdca26"
             ],
             [
              1,
              "#f0f921"
             ]
            ],
            "type": "contour"
           }
          ],
          "contourcarpet": [
           {
            "colorbar": {
             "outlinewidth": 0,
             "ticks": ""
            },
            "type": "contourcarpet"
           }
          ],
          "heatmap": [
           {
            "colorbar": {
             "outlinewidth": 0,
             "ticks": ""
            },
            "colorscale": [
             [
              0,
              "#0d0887"
             ],
             [
              0.1111111111111111,
              "#46039f"
             ],
             [
              0.2222222222222222,
              "#7201a8"
             ],
             [
              0.3333333333333333,
              "#9c179e"
             ],
             [
              0.4444444444444444,
              "#bd3786"
             ],
             [
              0.5555555555555556,
              "#d8576b"
             ],
             [
              0.6666666666666666,
              "#ed7953"
             ],
             [
              0.7777777777777778,
              "#fb9f3a"
             ],
             [
              0.8888888888888888,
              "#fdca26"
             ],
             [
              1,
              "#f0f921"
             ]
            ],
            "type": "heatmap"
           }
          ],
          "heatmapgl": [
           {
            "colorbar": {
             "outlinewidth": 0,
             "ticks": ""
            },
            "colorscale": [
             [
              0,
              "#0d0887"
             ],
             [
              0.1111111111111111,
              "#46039f"
             ],
             [
              0.2222222222222222,
              "#7201a8"
             ],
             [
              0.3333333333333333,
              "#9c179e"
             ],
             [
              0.4444444444444444,
              "#bd3786"
             ],
             [
              0.5555555555555556,
              "#d8576b"
             ],
             [
              0.6666666666666666,
              "#ed7953"
             ],
             [
              0.7777777777777778,
              "#fb9f3a"
             ],
             [
              0.8888888888888888,
              "#fdca26"
             ],
             [
              1,
              "#f0f921"
             ]
            ],
            "type": "heatmapgl"
           }
          ],
          "histogram": [
           {
            "marker": {
             "pattern": {
              "fillmode": "overlay",
              "size": 10,
              "solidity": 0.2
             }
            },
            "type": "histogram"
           }
          ],
          "histogram2d": [
           {
            "colorbar": {
             "outlinewidth": 0,
             "ticks": ""
            },
            "colorscale": [
             [
              0,
              "#0d0887"
             ],
             [
              0.1111111111111111,
              "#46039f"
             ],
             [
              0.2222222222222222,
              "#7201a8"
             ],
             [
              0.3333333333333333,
              "#9c179e"
             ],
             [
              0.4444444444444444,
              "#bd3786"
             ],
             [
              0.5555555555555556,
              "#d8576b"
             ],
             [
              0.6666666666666666,
              "#ed7953"
             ],
             [
              0.7777777777777778,
              "#fb9f3a"
             ],
             [
              0.8888888888888888,
              "#fdca26"
             ],
             [
              1,
              "#f0f921"
             ]
            ],
            "type": "histogram2d"
           }
          ],
          "histogram2dcontour": [
           {
            "colorbar": {
             "outlinewidth": 0,
             "ticks": ""
            },
            "colorscale": [
             [
              0,
              "#0d0887"
             ],
             [
              0.1111111111111111,
              "#46039f"
             ],
             [
              0.2222222222222222,
              "#7201a8"
             ],
             [
              0.3333333333333333,
              "#9c179e"
             ],
             [
              0.4444444444444444,
              "#bd3786"
             ],
             [
              0.5555555555555556,
              "#d8576b"
             ],
             [
              0.6666666666666666,
              "#ed7953"
             ],
             [
              0.7777777777777778,
              "#fb9f3a"
             ],
             [
              0.8888888888888888,
              "#fdca26"
             ],
             [
              1,
              "#f0f921"
             ]
            ],
            "type": "histogram2dcontour"
           }
          ],
          "mesh3d": [
           {
            "colorbar": {
             "outlinewidth": 0,
             "ticks": ""
            },
            "type": "mesh3d"
           }
          ],
          "parcoords": [
           {
            "line": {
             "colorbar": {
              "outlinewidth": 0,
              "ticks": ""
             }
            },
            "type": "parcoords"
           }
          ],
          "pie": [
           {
            "automargin": true,
            "type": "pie"
           }
          ],
          "scatter": [
           {
            "fillpattern": {
             "fillmode": "overlay",
             "size": 10,
             "solidity": 0.2
            },
            "type": "scatter"
           }
          ],
          "scatter3d": [
           {
            "line": {
             "colorbar": {
              "outlinewidth": 0,
              "ticks": ""
             }
            },
            "marker": {
             "colorbar": {
              "outlinewidth": 0,
              "ticks": ""
             }
            },
            "type": "scatter3d"
           }
          ],
          "scattercarpet": [
           {
            "marker": {
             "colorbar": {
              "outlinewidth": 0,
              "ticks": ""
             }
            },
            "type": "scattercarpet"
           }
          ],
          "scattergeo": [
           {
            "marker": {
             "colorbar": {
              "outlinewidth": 0,
              "ticks": ""
             }
            },
            "type": "scattergeo"
           }
          ],
          "scattergl": [
           {
            "marker": {
             "colorbar": {
              "outlinewidth": 0,
              "ticks": ""
             }
            },
            "type": "scattergl"
           }
          ],
          "scattermapbox": [
           {
            "marker": {
             "colorbar": {
              "outlinewidth": 0,
              "ticks": ""
             }
            },
            "type": "scattermapbox"
           }
          ],
          "scatterpolar": [
           {
            "marker": {
             "colorbar": {
              "outlinewidth": 0,
              "ticks": ""
             }
            },
            "type": "scatterpolar"
           }
          ],
          "scatterpolargl": [
           {
            "marker": {
             "colorbar": {
              "outlinewidth": 0,
              "ticks": ""
             }
            },
            "type": "scatterpolargl"
           }
          ],
          "scatterternary": [
           {
            "marker": {
             "colorbar": {
              "outlinewidth": 0,
              "ticks": ""
             }
            },
            "type": "scatterternary"
           }
          ],
          "surface": [
           {
            "colorbar": {
             "outlinewidth": 0,
             "ticks": ""
            },
            "colorscale": [
             [
              0,
              "#0d0887"
             ],
             [
              0.1111111111111111,
              "#46039f"
             ],
             [
              0.2222222222222222,
              "#7201a8"
             ],
             [
              0.3333333333333333,
              "#9c179e"
             ],
             [
              0.4444444444444444,
              "#bd3786"
             ],
             [
              0.5555555555555556,
              "#d8576b"
             ],
             [
              0.6666666666666666,
              "#ed7953"
             ],
             [
              0.7777777777777778,
              "#fb9f3a"
             ],
             [
              0.8888888888888888,
              "#fdca26"
             ],
             [
              1,
              "#f0f921"
             ]
            ],
            "type": "surface"
           }
          ],
          "table": [
           {
            "cells": {
             "fill": {
              "color": "#EBF0F8"
             },
             "line": {
              "color": "white"
             }
            },
            "header": {
             "fill": {
              "color": "#C8D4E3"
             },
             "line": {
              "color": "white"
             }
            },
            "type": "table"
           }
          ]
         },
         "layout": {
          "annotationdefaults": {
           "arrowcolor": "#2a3f5f",
           "arrowhead": 0,
           "arrowwidth": 1
          },
          "autotypenumbers": "strict",
          "coloraxis": {
           "colorbar": {
            "outlinewidth": 0,
            "ticks": ""
           }
          },
          "colorscale": {
           "diverging": [
            [
             0,
             "#8e0152"
            ],
            [
             0.1,
             "#c51b7d"
            ],
            [
             0.2,
             "#de77ae"
            ],
            [
             0.3,
             "#f1b6da"
            ],
            [
             0.4,
             "#fde0ef"
            ],
            [
             0.5,
             "#f7f7f7"
            ],
            [
             0.6,
             "#e6f5d0"
            ],
            [
             0.7,
             "#b8e186"
            ],
            [
             0.8,
             "#7fbc41"
            ],
            [
             0.9,
             "#4d9221"
            ],
            [
             1,
             "#276419"
            ]
           ],
           "sequential": [
            [
             0,
             "#0d0887"
            ],
            [
             0.1111111111111111,
             "#46039f"
            ],
            [
             0.2222222222222222,
             "#7201a8"
            ],
            [
             0.3333333333333333,
             "#9c179e"
            ],
            [
             0.4444444444444444,
             "#bd3786"
            ],
            [
             0.5555555555555556,
             "#d8576b"
            ],
            [
             0.6666666666666666,
             "#ed7953"
            ],
            [
             0.7777777777777778,
             "#fb9f3a"
            ],
            [
             0.8888888888888888,
             "#fdca26"
            ],
            [
             1,
             "#f0f921"
            ]
           ],
           "sequentialminus": [
            [
             0,
             "#0d0887"
            ],
            [
             0.1111111111111111,
             "#46039f"
            ],
            [
             0.2222222222222222,
             "#7201a8"
            ],
            [
             0.3333333333333333,
             "#9c179e"
            ],
            [
             0.4444444444444444,
             "#bd3786"
            ],
            [
             0.5555555555555556,
             "#d8576b"
            ],
            [
             0.6666666666666666,
             "#ed7953"
            ],
            [
             0.7777777777777778,
             "#fb9f3a"
            ],
            [
             0.8888888888888888,
             "#fdca26"
            ],
            [
             1,
             "#f0f921"
            ]
           ]
          },
          "colorway": [
           "#636efa",
           "#EF553B",
           "#00cc96",
           "#ab63fa",
           "#FFA15A",
           "#19d3f3",
           "#FF6692",
           "#B6E880",
           "#FF97FF",
           "#FECB52"
          ],
          "font": {
           "color": "#2a3f5f"
          },
          "geo": {
           "bgcolor": "white",
           "lakecolor": "white",
           "landcolor": "#E5ECF6",
           "showlakes": true,
           "showland": true,
           "subunitcolor": "white"
          },
          "hoverlabel": {
           "align": "left"
          },
          "hovermode": "closest",
          "mapbox": {
           "style": "light"
          },
          "paper_bgcolor": "white",
          "plot_bgcolor": "#E5ECF6",
          "polar": {
           "angularaxis": {
            "gridcolor": "white",
            "linecolor": "white",
            "ticks": ""
           },
           "bgcolor": "#E5ECF6",
           "radialaxis": {
            "gridcolor": "white",
            "linecolor": "white",
            "ticks": ""
           }
          },
          "scene": {
           "xaxis": {
            "backgroundcolor": "#E5ECF6",
            "gridcolor": "white",
            "gridwidth": 2,
            "linecolor": "white",
            "showbackground": true,
            "ticks": "",
            "zerolinecolor": "white"
           },
           "yaxis": {
            "backgroundcolor": "#E5ECF6",
            "gridcolor": "white",
            "gridwidth": 2,
            "linecolor": "white",
            "showbackground": true,
            "ticks": "",
            "zerolinecolor": "white"
           },
           "zaxis": {
            "backgroundcolor": "#E5ECF6",
            "gridcolor": "white",
            "gridwidth": 2,
            "linecolor": "white",
            "showbackground": true,
            "ticks": "",
            "zerolinecolor": "white"
           }
          },
          "shapedefaults": {
           "line": {
            "color": "#2a3f5f"
           }
          },
          "ternary": {
           "aaxis": {
            "gridcolor": "white",
            "linecolor": "white",
            "ticks": ""
           },
           "baxis": {
            "gridcolor": "white",
            "linecolor": "white",
            "ticks": ""
           },
           "bgcolor": "#E5ECF6",
           "caxis": {
            "gridcolor": "white",
            "linecolor": "white",
            "ticks": ""
           }
          },
          "title": {
           "x": 0.05
          },
          "xaxis": {
           "automargin": true,
           "gridcolor": "white",
           "linecolor": "white",
           "ticks": "",
           "title": {
            "standoff": 15
           },
           "zerolinecolor": "white",
           "zerolinewidth": 2
          },
          "yaxis": {
           "automargin": true,
           "gridcolor": "white",
           "linecolor": "white",
           "ticks": "",
           "title": {
            "standoff": 15
           },
           "zerolinecolor": "white",
           "zerolinewidth": 2
          }
         }
        }
       }
      },
      "text/html": [
       "<div>                            <div id=\"d82a04f9-e3fb-4de0-97ee-5e33aab799bd\" class=\"plotly-graph-div\" style=\"height:525px; width:100%;\"></div>            <script type=\"text/javascript\">                require([\"plotly\"], function(Plotly) {                    window.PLOTLYENV=window.PLOTLYENV || {};                                    if (document.getElementById(\"d82a04f9-e3fb-4de0-97ee-5e33aab799bd\")) {                    Plotly.newPlot(                        \"d82a04f9-e3fb-4de0-97ee-5e33aab799bd\",                        [{\"coloraxis\":\"coloraxis\",\"geo\":\"geo\",\"hovertemplate\":\"State=%{location}<br>Rank=%{z}<extra></extra>\",\"locationmode\":\"USA-states\",\"locations\":[\"Alabama\",\"Alaska\",\"Arizona\",\"Arkansas\",\"California\",\"Colorado\",\"Connecticut\",\"Delaware\",\"Florida\",\"Georgia\",\"Hawaii\",\"Idaho\",\"Illinois\",\"Indiana\",\"Iowa\",\"Kansas\",\"Kentucky\",\"Louisiana\",\"Maine\",\"Maryland\",\"Massachusetts\",\"Michigan\",\"Minnesota\",\"Mississippi\",\"Missouri\",\"Montana\",\"Nebraska\",\"Nevada\",\"New Hampshire\",\"New Jersey\",\"New Mexico\",\"New York\",\"North Carolina\",\"North Dakota\",\"Ohio\",\"Oklahoma\",\"Oregon\",\"Pennsylvania\",\"Rhode Island\",\"South Carolina\",\"South Dakota\",\"Tennessee\",\"Texas\",\"Utah\",\"Vermont\",\"Virginia\",\"Washington\",\"West Virginia\",\"Wisconsin\",\"Wyoming\"],\"name\":\"\",\"z\":[4,39,47,8,40,44,9,16,5,7,1,42,27,26,31,35,12,2,23,18,14,32,37,3,24,45,38,50,20,15,46,25,9,43,28,30,36,21,13,11,41,6,34,49,22,19,29,17,33,48],\"type\":\"choropleth\"}],                        {\"template\":{\"data\":{\"histogram2dcontour\":[{\"type\":\"histogram2dcontour\",\"colorbar\":{\"outlinewidth\":0,\"ticks\":\"\"},\"colorscale\":[[0.0,\"#0d0887\"],[0.1111111111111111,\"#46039f\"],[0.2222222222222222,\"#7201a8\"],[0.3333333333333333,\"#9c179e\"],[0.4444444444444444,\"#bd3786\"],[0.5555555555555556,\"#d8576b\"],[0.6666666666666666,\"#ed7953\"],[0.7777777777777778,\"#fb9f3a\"],[0.8888888888888888,\"#fdca26\"],[1.0,\"#f0f921\"]]}],\"choropleth\":[{\"type\":\"choropleth\",\"colorbar\":{\"outlinewidth\":0,\"ticks\":\"\"}}],\"histogram2d\":[{\"type\":\"histogram2d\",\"colorbar\":{\"outlinewidth\":0,\"ticks\":\"\"},\"colorscale\":[[0.0,\"#0d0887\"],[0.1111111111111111,\"#46039f\"],[0.2222222222222222,\"#7201a8\"],[0.3333333333333333,\"#9c179e\"],[0.4444444444444444,\"#bd3786\"],[0.5555555555555556,\"#d8576b\"],[0.6666666666666666,\"#ed7953\"],[0.7777777777777778,\"#fb9f3a\"],[0.8888888888888888,\"#fdca26\"],[1.0,\"#f0f921\"]]}],\"heatmap\":[{\"type\":\"heatmap\",\"colorbar\":{\"outlinewidth\":0,\"ticks\":\"\"},\"colorscale\":[[0.0,\"#0d0887\"],[0.1111111111111111,\"#46039f\"],[0.2222222222222222,\"#7201a8\"],[0.3333333333333333,\"#9c179e\"],[0.4444444444444444,\"#bd3786\"],[0.5555555555555556,\"#d8576b\"],[0.6666666666666666,\"#ed7953\"],[0.7777777777777778,\"#fb9f3a\"],[0.8888888888888888,\"#fdca26\"],[1.0,\"#f0f921\"]]}],\"heatmapgl\":[{\"type\":\"heatmapgl\",\"colorbar\":{\"outlinewidth\":0,\"ticks\":\"\"},\"colorscale\":[[0.0,\"#0d0887\"],[0.1111111111111111,\"#46039f\"],[0.2222222222222222,\"#7201a8\"],[0.3333333333333333,\"#9c179e\"],[0.4444444444444444,\"#bd3786\"],[0.5555555555555556,\"#d8576b\"],[0.6666666666666666,\"#ed7953\"],[0.7777777777777778,\"#fb9f3a\"],[0.8888888888888888,\"#fdca26\"],[1.0,\"#f0f921\"]]}],\"contourcarpet\":[{\"type\":\"contourcarpet\",\"colorbar\":{\"outlinewidth\":0,\"ticks\":\"\"}}],\"contour\":[{\"type\":\"contour\",\"colorbar\":{\"outlinewidth\":0,\"ticks\":\"\"},\"colorscale\":[[0.0,\"#0d0887\"],[0.1111111111111111,\"#46039f\"],[0.2222222222222222,\"#7201a8\"],[0.3333333333333333,\"#9c179e\"],[0.4444444444444444,\"#bd3786\"],[0.5555555555555556,\"#d8576b\"],[0.6666666666666666,\"#ed7953\"],[0.7777777777777778,\"#fb9f3a\"],[0.8888888888888888,\"#fdca26\"],[1.0,\"#f0f921\"]]}],\"surface\":[{\"type\":\"surface\",\"colorbar\":{\"outlinewidth\":0,\"ticks\":\"\"},\"colorscale\":[[0.0,\"#0d0887\"],[0.1111111111111111,\"#46039f\"],[0.2222222222222222,\"#7201a8\"],[0.3333333333333333,\"#9c179e\"],[0.4444444444444444,\"#bd3786\"],[0.5555555555555556,\"#d8576b\"],[0.6666666666666666,\"#ed7953\"],[0.7777777777777778,\"#fb9f3a\"],[0.8888888888888888,\"#fdca26\"],[1.0,\"#f0f921\"]]}],\"mesh3d\":[{\"type\":\"mesh3d\",\"colorbar\":{\"outlinewidth\":0,\"ticks\":\"\"}}],\"scatter\":[{\"fillpattern\":{\"fillmode\":\"overlay\",\"size\":10,\"solidity\":0.2},\"type\":\"scatter\"}],\"parcoords\":[{\"type\":\"parcoords\",\"line\":{\"colorbar\":{\"outlinewidth\":0,\"ticks\":\"\"}}}],\"scatterpolargl\":[{\"type\":\"scatterpolargl\",\"marker\":{\"colorbar\":{\"outlinewidth\":0,\"ticks\":\"\"}}}],\"bar\":[{\"error_x\":{\"color\":\"#2a3f5f\"},\"error_y\":{\"color\":\"#2a3f5f\"},\"marker\":{\"line\":{\"color\":\"#E5ECF6\",\"width\":0.5},\"pattern\":{\"fillmode\":\"overlay\",\"size\":10,\"solidity\":0.2}},\"type\":\"bar\"}],\"scattergeo\":[{\"type\":\"scattergeo\",\"marker\":{\"colorbar\":{\"outlinewidth\":0,\"ticks\":\"\"}}}],\"scatterpolar\":[{\"type\":\"scatterpolar\",\"marker\":{\"colorbar\":{\"outlinewidth\":0,\"ticks\":\"\"}}}],\"histogram\":[{\"marker\":{\"pattern\":{\"fillmode\":\"overlay\",\"size\":10,\"solidity\":0.2}},\"type\":\"histogram\"}],\"scattergl\":[{\"type\":\"scattergl\",\"marker\":{\"colorbar\":{\"outlinewidth\":0,\"ticks\":\"\"}}}],\"scatter3d\":[{\"type\":\"scatter3d\",\"line\":{\"colorbar\":{\"outlinewidth\":0,\"ticks\":\"\"}},\"marker\":{\"colorbar\":{\"outlinewidth\":0,\"ticks\":\"\"}}}],\"scattermapbox\":[{\"type\":\"scattermapbox\",\"marker\":{\"colorbar\":{\"outlinewidth\":0,\"ticks\":\"\"}}}],\"scatterternary\":[{\"type\":\"scatterternary\",\"marker\":{\"colorbar\":{\"outlinewidth\":0,\"ticks\":\"\"}}}],\"scattercarpet\":[{\"type\":\"scattercarpet\",\"marker\":{\"colorbar\":{\"outlinewidth\":0,\"ticks\":\"\"}}}],\"carpet\":[{\"aaxis\":{\"endlinecolor\":\"#2a3f5f\",\"gridcolor\":\"white\",\"linecolor\":\"white\",\"minorgridcolor\":\"white\",\"startlinecolor\":\"#2a3f5f\"},\"baxis\":{\"endlinecolor\":\"#2a3f5f\",\"gridcolor\":\"white\",\"linecolor\":\"white\",\"minorgridcolor\":\"white\",\"startlinecolor\":\"#2a3f5f\"},\"type\":\"carpet\"}],\"table\":[{\"cells\":{\"fill\":{\"color\":\"#EBF0F8\"},\"line\":{\"color\":\"white\"}},\"header\":{\"fill\":{\"color\":\"#C8D4E3\"},\"line\":{\"color\":\"white\"}},\"type\":\"table\"}],\"barpolar\":[{\"marker\":{\"line\":{\"color\":\"#E5ECF6\",\"width\":0.5},\"pattern\":{\"fillmode\":\"overlay\",\"size\":10,\"solidity\":0.2}},\"type\":\"barpolar\"}],\"pie\":[{\"automargin\":true,\"type\":\"pie\"}]},\"layout\":{\"autotypenumbers\":\"strict\",\"colorway\":[\"#636efa\",\"#EF553B\",\"#00cc96\",\"#ab63fa\",\"#FFA15A\",\"#19d3f3\",\"#FF6692\",\"#B6E880\",\"#FF97FF\",\"#FECB52\"],\"font\":{\"color\":\"#2a3f5f\"},\"hovermode\":\"closest\",\"hoverlabel\":{\"align\":\"left\"},\"paper_bgcolor\":\"white\",\"plot_bgcolor\":\"#E5ECF6\",\"polar\":{\"bgcolor\":\"#E5ECF6\",\"angularaxis\":{\"gridcolor\":\"white\",\"linecolor\":\"white\",\"ticks\":\"\"},\"radialaxis\":{\"gridcolor\":\"white\",\"linecolor\":\"white\",\"ticks\":\"\"}},\"ternary\":{\"bgcolor\":\"#E5ECF6\",\"aaxis\":{\"gridcolor\":\"white\",\"linecolor\":\"white\",\"ticks\":\"\"},\"baxis\":{\"gridcolor\":\"white\",\"linecolor\":\"white\",\"ticks\":\"\"},\"caxis\":{\"gridcolor\":\"white\",\"linecolor\":\"white\",\"ticks\":\"\"}},\"coloraxis\":{\"colorbar\":{\"outlinewidth\":0,\"ticks\":\"\"}},\"colorscale\":{\"sequential\":[[0.0,\"#0d0887\"],[0.1111111111111111,\"#46039f\"],[0.2222222222222222,\"#7201a8\"],[0.3333333333333333,\"#9c179e\"],[0.4444444444444444,\"#bd3786\"],[0.5555555555555556,\"#d8576b\"],[0.6666666666666666,\"#ed7953\"],[0.7777777777777778,\"#fb9f3a\"],[0.8888888888888888,\"#fdca26\"],[1.0,\"#f0f921\"]],\"sequentialminus\":[[0.0,\"#0d0887\"],[0.1111111111111111,\"#46039f\"],[0.2222222222222222,\"#7201a8\"],[0.3333333333333333,\"#9c179e\"],[0.4444444444444444,\"#bd3786\"],[0.5555555555555556,\"#d8576b\"],[0.6666666666666666,\"#ed7953\"],[0.7777777777777778,\"#fb9f3a\"],[0.8888888888888888,\"#fdca26\"],[1.0,\"#f0f921\"]],\"diverging\":[[0,\"#8e0152\"],[0.1,\"#c51b7d\"],[0.2,\"#de77ae\"],[0.3,\"#f1b6da\"],[0.4,\"#fde0ef\"],[0.5,\"#f7f7f7\"],[0.6,\"#e6f5d0\"],[0.7,\"#b8e186\"],[0.8,\"#7fbc41\"],[0.9,\"#4d9221\"],[1,\"#276419\"]]},\"xaxis\":{\"gridcolor\":\"white\",\"linecolor\":\"white\",\"ticks\":\"\",\"title\":{\"standoff\":15},\"zerolinecolor\":\"white\",\"automargin\":true,\"zerolinewidth\":2},\"yaxis\":{\"gridcolor\":\"white\",\"linecolor\":\"white\",\"ticks\":\"\",\"title\":{\"standoff\":15},\"zerolinecolor\":\"white\",\"automargin\":true,\"zerolinewidth\":2},\"scene\":{\"xaxis\":{\"backgroundcolor\":\"#E5ECF6\",\"gridcolor\":\"white\",\"linecolor\":\"white\",\"showbackground\":true,\"ticks\":\"\",\"zerolinecolor\":\"white\",\"gridwidth\":2},\"yaxis\":{\"backgroundcolor\":\"#E5ECF6\",\"gridcolor\":\"white\",\"linecolor\":\"white\",\"showbackground\":true,\"ticks\":\"\",\"zerolinecolor\":\"white\",\"gridwidth\":2},\"zaxis\":{\"backgroundcolor\":\"#E5ECF6\",\"gridcolor\":\"white\",\"linecolor\":\"white\",\"showbackground\":true,\"ticks\":\"\",\"zerolinecolor\":\"white\",\"gridwidth\":2}},\"shapedefaults\":{\"line\":{\"color\":\"#2a3f5f\"}},\"annotationdefaults\":{\"arrowcolor\":\"#2a3f5f\",\"arrowhead\":0,\"arrowwidth\":1},\"geo\":{\"bgcolor\":\"white\",\"landcolor\":\"#E5ECF6\",\"subunitcolor\":\"white\",\"showland\":true,\"showlakes\":true,\"lakecolor\":\"white\"},\"title\":{\"x\":0.05},\"mapbox\":{\"style\":\"light\"}}},\"geo\":{\"domain\":{\"x\":[0.0,1.0],\"y\":[0.0,1.0]},\"center\":{},\"scope\":\"usa\"},\"coloraxis\":{\"colorbar\":{\"title\":{\"text\":\"Rank\"}},\"colorscale\":[[0.0,\"#fde725\"],[0.1111111111111111,\"#b5de2b\"],[0.2222222222222222,\"#6ece58\"],[0.3333333333333333,\"#35b779\"],[0.4444444444444444,\"#1f9e89\"],[0.5555555555555556,\"#26828e\"],[0.6666666666666666,\"#31688e\"],[0.7777777777777778,\"#3e4989\"],[0.8888888888888888,\"#482878\"],[1.0,\"#440154\"]]},\"legend\":{\"tracegroupgap\":0},\"margin\":{\"t\":60}},                        {\"responsive\": true}                    ).then(function(){\n",
       "                            \n",
       "var gd = document.getElementById('d82a04f9-e3fb-4de0-97ee-5e33aab799bd');\n",
       "var x = new MutationObserver(function (mutations, observer) {{\n",
       "        var display = window.getComputedStyle(gd).display;\n",
       "        if (!display || display === 'none') {{\n",
       "            console.log([gd, 'removed!']);\n",
       "            Plotly.purge(gd);\n",
       "            observer.disconnect();\n",
       "        }}\n",
       "}});\n",
       "\n",
       "// Listen for the removal of the full notebook cells\n",
       "var notebookContainer = gd.closest('#notebook-container');\n",
       "if (notebookContainer) {{\n",
       "    x.observe(notebookContainer, {childList: true});\n",
       "}}\n",
       "\n",
       "// Listen for the clearing of the current output cell\n",
       "var outputEl = gd.closest('.output');\n",
       "if (outputEl) {{\n",
       "    x.observe(outputEl, {childList: true});\n",
       "}}\n",
       "\n",
       "                        })                };                });            </script>        </div>"
      ]
     },
     "metadata": {},
     "output_type": "display_data"
    }
   ],
   "source": [
    "fig = px.choropleth(df,\n",
    "                    locations='State', \n",
    "                    locationmode='USA-states', \n",
    "                    color='Rank',\n",
    "                    color_continuous_scale=\"Viridis_r\", \n",
    "                    scope='usa',\n",
    "                    animation_frame='period_begin') #make sure 'period_begin' is string type and sorted in ascending order\n",
    "\n",
    "fig.show()"
   ]
  },
  {
   "cell_type": "code",
   "execution_count": 4,
   "metadata": {},
   "outputs": [
    {
     "data": {
      "image/png": "[encoded data removed]",
      "text/plain": [
       "<Figure size 864x576 with 2 Axes>"
      ]
     },
     "metadata": {
      "needs_background": "light"
     },
     "output_type": "display_data"
    }
   ],
   "source": [
    "import geopandas as gpd\n",
    "import pandas as pd\n",
    "import matplotlib.pyplot as plt\n",
    "\n",
    "# Load map of US states\n",
    "states = gpd.read_file(gpd.datasets.get_path('naturalearth_lowres'))\n",
    "\n",
    "# Load precipitation data\n",
    "precip = pd.read_csv('precipitation.csv', index_col=0)\n",
    "\n",
    "# Merge map and precipitation data based on state names\n",
    "merged = states.merge(precip, left_on='name', right_index=True)\n",
    "\n",
    "# Plot choropleth of precipitation data\n",
    "fig, ax = plt.subplots(figsize=(12, 8))\n",
    "merged.plot(column='Inches', cmap='Blues', legend=True, ax=ax)\n",
    "ax.set_title('Average Annual Precipitation in the US')\n",
    "plt.show()"
   ]
  },
  {
   "cell_type": "markdown",
   "metadata": {},
   "source": [
    "# P16.Data transfer: Converting formatted input to Comma-Separated-Values (CSV) output"
   ]
  },
  {
   "cell_type": "code",
   "execution_count": 58,
   "metadata": {},
   "outputs": [
    {
     "ename": "FileNotFoundError",
     "evalue": "[Errno 2] No such file or directory: '-f'",
     "output_type": "error",
     "traceback": [
      "\u001b[0;31m---------------------------------------------------------------------------\u001b[0m",
      "\u001b[0;31mFileNotFoundError\u001b[0m                         Traceback (most recent call last)",
      "\u001b[0;32m<ipython-input-58-abb0a27363cb>\u001b[0m in \u001b[0;36m<module>\u001b[0;34m\u001b[0m\n\u001b[1;32m      8\u001b[0m \u001b[0moutput_file\u001b[0m \u001b[0;34m=\u001b[0m \u001b[0msys\u001b[0m\u001b[0;34m.\u001b[0m\u001b[0margv\u001b[0m\u001b[0;34m[\u001b[0m\u001b[0;36m2\u001b[0m\u001b[0;34m]\u001b[0m\u001b[0;34m\u001b[0m\u001b[0;34m\u001b[0m\u001b[0m\n\u001b[1;32m      9\u001b[0m \u001b[0;34m\u001b[0m\u001b[0m\n\u001b[0;32m---> 10\u001b[0;31m \u001b[0;32mwith\u001b[0m \u001b[0mopen\u001b[0m\u001b[0;34m(\u001b[0m\u001b[0minput_file\u001b[0m\u001b[0;34m,\u001b[0m \u001b[0;34m'r'\u001b[0m\u001b[0;34m)\u001b[0m \u001b[0;32mas\u001b[0m \u001b[0mfin\u001b[0m\u001b[0;34m:\u001b[0m\u001b[0;34m\u001b[0m\u001b[0;34m\u001b[0m\u001b[0m\n\u001b[0m\u001b[1;32m     11\u001b[0m     \u001b[0mlines\u001b[0m \u001b[0;34m=\u001b[0m \u001b[0mfin\u001b[0m\u001b[0;34m.\u001b[0m\u001b[0mreadlines\u001b[0m\u001b[0;34m(\u001b[0m\u001b[0;34m)\u001b[0m\u001b[0;34m\u001b[0m\u001b[0;34m\u001b[0m\u001b[0m\n\u001b[1;32m     12\u001b[0m \u001b[0;34m\u001b[0m\u001b[0m\n",
      "\u001b[0;31mFileNotFoundError\u001b[0m: [Errno 2] No such file or directory: '-f'"
     ]
    }
   ],
   "source": [
    "import sys\n",
    "\n",
    "if len(sys.argv) != 3:\n",
    "    print(\"Usage: formatted2csv.py input_file output_file\")\n",
    "    sys.exit(1)\n",
    "\n",
    "input_file = sys.argv[1]\n",
    "output_file = sys.argv[2]\n",
    "\n",
    "with open(input_file, 'r') as fin:\n",
    "    lines = fin.readlines()\n",
    "\n",
    "with open(output_file, 'w') as fout:\n",
    "    for line in lines:\n",
    "        # split the line into columns\n",
    "        columns = line.strip().split()\n",
    "\n",
    "        # join the columns with commas and write to output file\n",
    "        fout.write(','.join(columns) + '\\n')\n"
   ]
  },
  {
   "cell_type": "code",
   "execution_count": null,
   "metadata": {},
   "outputs": [],
   "source": [
    "python formatted2csv.py data.in data.out"
   ]
  },
  {
   "cell_type": "markdown",
   "metadata": {},
   "source": [
    "# P17.Parsing data from the World Wide Web"
   ]
  },
  {
   "cell_type": "code",
   "execution_count": 59,
   "metadata": {},
   "outputs": [],
   "source": [
    "import requests\n",
    "from bs4 import BeautifulSoup\n",
    "\n",
    "# download the webpage\n",
    "url = 'https://cdslaborg.github.io/DataRepos_SwiftBat/index.html'\n",
    "response = requests.get(url)\n",
    "\n",
    "# parse the HTML content\n",
    "soup = BeautifulSoup(response.content, 'html.parser')\n",
    "\n",
    "# extract the table rows\n",
    "rows = soup.find_all('tr')\n",
    "\n",
    "# extract the GRB IDs from the first column of each row\n",
    "grb_ids = []\n",
    "for row in rows:\n",
    "    cols = row.find_all('td')\n",
    "    if len(cols) > 0:\n",
    "        grb_id = cols[0].text.split('(')[1].split(')')[0]\n",
    "        grb_ids.append(grb_id)\n",
    "\n",
    "# write the GRB IDs to the output file\n",
    "with open('nasa.swift.grb.ids.txt', 'w') as f:\n",
    "    for grb_id in grb_ids:\n",
    "        f.write(str(grb_id) + '\\n')"
   ]
  },
  {
   "cell_type": "markdown",
   "metadata": {},
   "source": [
    "# P19.Understanding the Central Limit Theorem via random walk"
   ]
  },
  {
   "cell_type": "code",
   "execution_count": 60,
   "metadata": {},
   "outputs": [],
   "source": [
    "import random\n",
    "\n",
    "def doRandomWalk(nstep, startPosition):\n",
    "    position = startPosition\n",
    "    for i in range(nstep):\n",
    "        # take a random step of size between [0,1]\n",
    "        step = random.uniform(0, 1)\n",
    "        \n",
    "        # decide the direction of the step\n",
    "        direction = random.choice([-1, 1])\n",
    "        \n",
    "        # update the position\n",
    "        position += step * direction\n",
    "    \n",
    "    return position\n"
   ]
  },
  {
   "cell_type": "code",
   "execution_count": 61,
   "metadata": {},
   "outputs": [
    {
     "name": "stdout",
     "output_type": "stream",
     "text": [
      "Final position: 4.865972354155367\n"
     ]
    }
   ],
   "source": [
    "finalPosition = doRandomWalk(100, 0)\n",
    "print(\"Final position:\", finalPosition)\n"
   ]
  },
  {
   "cell_type": "code",
   "execution_count": 62,
   "metadata": {},
   "outputs": [],
   "source": [
    "import random\n",
    "\n",
    "def simulateRandomWalk(nsim, nstep, startPosition):\n",
    "    finalPositions = []\n",
    "    for i in range(nsim):\n",
    "        finalPosition = doRandomWalk(nstep, startPosition)\n",
    "        finalPositions.append(finalPosition)\n",
    "    return finalPositions\n"
   ]
  },
  {
   "cell_type": "code",
   "execution_count": 63,
   "metadata": {},
   "outputs": [
    {
     "name": "stdout",
     "output_type": "stream",
     "text": [
      "Final positions: [11.90439652190192, 1.1463547204711235, -18.33727468559343, -4.8521376008502015, -6.493023139022189, -9.163606759112374, 2.1268309685840103, -10.84330645894333, 6.008017193035298, -1.1428991389278367, 7.857759324039348, 8.631233786729888, -0.7403949964626833, 6.5883294391685325, -8.910144429641957, 3.922869370418817, -6.73878660794573, 4.409549511040064, 0.6441117534421096, -4.642637718720571, 0.18852084337651676, -9.00782377602793, 5.766791123080134, -4.9986802264490215, 3.0406732955557083, 7.867013565338082, 3.589289078369955, -3.225294761857375, -3.9099839508715313, 2.477800178263683, -0.5880364502303417, -10.05970650745539, 1.179842372478677, -10.206849269661499, 1.0211110024857177, -6.893587364915309, 2.5040834416634006, -6.168917944896862, 5.030703416816711, -0.00504447164738131, -14.179456932024937, -9.57044600429133, -10.502508917294564, -5.344890822665816, -0.6961143389437671, -3.1311600863395315, -14.591859651180334, 0.9283258300812469, 2.2478854846919685, 3.5027340451321294, 4.969269104292506, 2.720086486485379, 7.858903745021163, -6.227218381934655, -5.499594909002318, 1.8525438643968468, 9.928269215464928, 3.52604179975389, -3.0124691739056284, -3.685259658058601, 6.518182100316131, -0.3316022734119586, -4.615932038587554, -6.799234357371616, -2.600054002919415, 4.8273738212752155, -6.611924524929916, 1.0232007018617804, 5.538156316865953, -4.5461739845735485, 5.153740275130707, 3.6853809192109006, -6.932991252240312, 12.997026381979962, -6.444057426352245, 6.968525408213939, 2.129566075652594, 10.094868273314335, 4.00535634504041, -3.2789262373962145, 10.109979935577206, -10.129217234119533, -2.4223771367486027, -0.19588974098982925, -10.739116980377622, -2.2379750499531976, -0.5213793661204733, -2.6459829752682644, 7.077136694189506, -1.0853110636897267, -2.649730241652407, 3.6951049722963054, -3.0090336964215076, 9.382638656729672, 8.90137186594756, 15.24608611578652, 1.3146655379694696, 4.096033561199269, -0.2547401182833582, 9.370633467342792, -0.7236244314743829, 2.418755798169493, 5.811371580530969, -1.9406731378723419, -4.690155582806931, 0.05360858016281678, -2.522918753852962, 0.7261831297949141, 0.11108291651249136, -3.019492334864417, 4.587119619757748, -5.408295515088324, -11.427584333075052, 2.8233350273313493, -4.24116243257216, -8.067487859527, -8.381152036931583, 5.0005205952159475, -1.069384646332114, 6.196359821624132, -0.8120499553071276, 6.991704656912925, 2.438068277662957, 4.344773923658307, 3.3025896654726927, 1.6865193232145366, 1.4414489820924725, -1.2631322808155727, 0.6564827698426414, 1.2758742359134536, -11.184282927015012, -1.7899889359552685, -12.720987853541867, 0.05136350998068173, -0.3102214859628549, 4.721558943094138, 6.084749570267683, 0.2972623310633683, 1.1174354200653887, 3.2135347929306537, 7.086279635490708, 4.074794387609767, -9.915720630726117, -2.9193997084648764, -9.454440858018383, -1.4369611825442057, 6.455082460835066, 9.240765777055339, 1.3135595201483812, -1.7833973869468833, 5.978627096985651, 0.8308696615332276, -7.668430681433258, 3.421117124716546, -1.8757719429867628, -3.360209133014361, 4.889298473876902, -3.126319832085402, 0.9340867544853245, -1.2671910659331838, 4.619736056094733, 5.679456725252458, -6.635966162682701, -2.63254927683718, 1.9435479177485941, 1.023848967528748, -1.2870277141135338, 3.2834891557877315, -12.319555855402928, -3.1207505804992737, -4.150937943411845, -2.1640126156101993, 0.9148036424268631, -6.327247183445185, -0.6889557763121202, -2.718379266450049, -1.6983676041684546, 7.853241183076651, -4.443238190823734, -6.960646169043153, 7.243691323257921, -3.8407886447188924, 4.288472124135186, 1.538026209823098, -11.384281261585528, -2.5517670116354507, 10.292598096479018, 0.45800400840560473, 2.3130443157495755, -12.193585751624632, -2.758295682546592, -6.236620056981002, -2.316930229285237, -8.335929579836321, -3.417026128405493, 0.7264052168639179, 3.6635593968837634, 5.265808003141504, -1.17798856100924, -4.311098081816873, -0.503468415680612, -3.9315309305866593, 6.511314581921759, -10.918223242239403, 7.461245741781344, -7.945422958283879, 12.774426301730434, 7.533541649528407, -4.043421600346495, 8.036720451028511, -11.645740508225128, 10.021499306391675, -11.299335932438126, 5.826914454827244, -0.5616654896329143, 1.1357656994964311, 9.290319354023076, 4.755116881893566, 8.180465876740294, 2.6997653426026993, 8.573248986091636, 6.7831730651509154, -0.24551107685479678, -5.5500723532980905, -6.473705831694621, -0.24753597068047617, 2.1035062495929644, -7.391511672644515, -4.441677928545246, -6.183630880770508, -2.140666411887068, 4.767547463876134, 4.495680968624855, 1.3213100009053975, -1.3005784771336684, 6.769449076441789, 6.790611827949881, 2.454704953740029, -0.6869987843492872, 0.3428512589273678, 0.06409972106141137, -2.6353313269068215, -5.375274880632394, -2.8252786692204137, -2.1163891658596916, 9.6545589650827, -3.0354697241404347, -4.662641487418321, 4.0837241368393755, 0.03160974554025131, 5.950899017716801, -3.4136013072860405, -2.070495630283838, 7.342279054570534, -2.218534829100131, -7.335623036208444, 2.4217633379841854, 10.650166128023464, 3.0365302927564284, -3.540565687840563, -4.913259796225817, 7.428813017800243, 7.251863632069382, 5.765334116428802, -0.6087099549786937, 2.2331729346566336, -1.0539970658284328, -0.10876107991409467, -3.0854479159026584, 0.5119587054109278, 2.4240142329119325, 6.4524391279878515, 7.5521127476742915, -4.698833453591225, -9.076345754957634, 7.63799731893389, 4.491931551675349, 0.3625837454667542, 1.4254462482648065, -1.3720489196929266, -11.009239563619513, 1.5612362136382179, 6.066591132667696, 4.965135705803163, -1.5272950451817544, 3.256432413849836, -2.382978966971269, 4.5805193792439285, -5.662998879775193, -2.355870729551189, 4.169985604504707, 8.287806224104644, 0.4701164891919104, 5.193643176538874, 6.3130747231488895, 2.0303248843371433, 0.21114818827269766, 3.0504921726168224, -9.196085208505668, -9.673441796446925, 0.8876877292686405, -0.9530324685753143, 8.734874587913422, 10.654649412801904, -1.7365442875475612, -11.295874263749736, 0.4238127953120294, 3.2596926939040927, -3.4238482348364574, 5.503017468849976, 7.306279591830469, -1.6454912797072652, 2.5433230749707345, 8.090658818450324, -11.557249736509986, -1.385529425861073, 9.372291676738003, 7.295516981201741, -0.11452024253150006, 1.2651139110557588, -9.336862777227202, 5.181699246431073, 4.826584630975503, -4.265871934146063, -4.19536634608433, 5.521136975965562, -0.656964615592445, 2.412638141617788, -2.5314640584568866, 7.530970500740681, -1.9690659986058323, 1.2213402892976055, -2.656761877161414, 1.5936431122727852, -6.335599193920112, 8.253359202597549, -6.367600043452708, 2.610289378505393, -6.469317323223965, 2.4241270415967575, -1.1433254184632395, -1.015414141997603, -5.34845806068132, -5.028956315677954, 10.272536863107335, -3.3945641959087056, -5.440824392832285, 0.9903388677773111, 2.684984110991082, -3.773836252583176, -2.883322131359561, -4.241798937827629, -3.8965031821050893, 1.2517252530881726, 10.502961744845056, -4.370226912622621, -11.99422025954116, -2.5552180011604686, -0.6830764244397745, -5.920892175593521, -6.822352231441848, -2.262373837333973, -3.336163360207131, -7.021490470775238, -4.397475706259102, -0.7097355506596194, -8.848393548275597, 4.894485864670633, -3.623852771016651, -4.25984459118733, -3.1704968360669095, -4.910928105540439, 8.85317994680152, 2.855727249007438, -1.5416836008051609, 10.348716295829822, -7.073032241955261, -8.536353275904986, 0.6459464652795773, -4.499282979673081, -3.114965984012185, 2.3709103329400167, 4.881722133765969, 1.4730488096639007, 4.147615138327492, 1.9442252776906832, 1.469669035447, -3.0149162443018995, -0.4268092399056186, 4.507535900241999, -4.017426499614375, 3.9098093313794124, -5.970123756052147, -9.187777357916815, -0.759314313206562, 3.3781679718892637, 3.1633413491539057, -4.310466080358804, 6.682456016755587, 5.435949371409586, 1.967361348514721, -0.5414617129857319, 1.7984565886710975, -5.268605962886218, -5.696982422634133, -16.928455844377364, 4.356542993234969, 0.0832381454956923, -1.5351450053881066, 6.42386298307958, -0.6516796945384188, 0.7832987293492348, 2.0060728759945254, -1.3047264241133265, 4.234496662571106, 12.729446717995907, 2.276882078702157, -2.7163650167759545, 9.152195306614624, -0.10732754563823144, -6.522286371207937, 6.140037894625247, -6.6549281902324395, -4.112498401913492, -3.4336735083434125, -3.226702959375489, 2.472484637482557, -5.139850067083664, 15.374827685411068, -5.418874346784035, 4.6338406148993165, -1.7227525647118533, -7.728970892600689, -1.5586272672717931, -3.242507306586706, 0.10263779809277607, 4.436583825426803, -3.6787364343615905, -6.571087689734063, 2.0713764493220426, 10.04061661247479, 5.083227010841667, -5.153965306584458, -0.530776856391398, -1.1942396061974985, 9.869344107654452, 4.168770510433188, -1.3072407927957557, 0.8927916592542507, 6.679295331220262, -2.4511644154220193, -10.583485563377138, -1.8572477841626984, 1.7799887354960116, 6.069188116509645, 6.022192735721273, 5.555968130760301, -4.184296743818716, 4.506386389370275, 2.423811032267012, -6.274202857443869, -8.494081882976271, 0.44232392462488834, -4.074189840990152, -1.671294101726107, -0.8097973896919222, -2.4636367216855133, 8.893671101923974, -11.134403040828595, -5.56783794159569, -3.4205382026591007, 1.965190629231001, -5.6168481302147955, 1.4301723186494644, 1.897588165102528, 11.343780250514627, -1.9885620456077362, -0.3011579168163223, 7.681615625356928, 8.706733528585987, -3.8202330772513724, 1.937469330440762, -2.5994006228418582, 1.642669672957959, 1.4376939185971818, -10.521229892263591, -7.409392671204177, 5.148948708652228, 10.431260345902473, 3.350959144987237, -6.629573717516175, 3.3227654606512393, -9.174081474823529, 13.90203921282728, -8.268845471923527, -7.190630148934402, 0.4170514141938171, 8.81991077511198, 0.0820531042639071, -0.4430099343250119, 8.116774915018084, 3.0004009934742157, 0.4511198759843672, -8.77143005831572, 0.45352157597074816, 5.326851520044707, -2.188482471317307, 0.5710037894123409, 1.0322376633315087, 7.587035455294746, -5.344173401878839, -1.7120721672128827, 3.9113265174144436, 5.175774369502266, -3.741544857075428, -8.590470797809925, 6.028637379046954, 9.231588042314453, -1.6941036812456272, -10.630798491890266, 5.480526601935807, -0.6239102794302558, -0.5949330364098658, -3.2785011654884024, -15.317052030606582, 0.11144252426184509, 8.830059783655642, 5.714861283027754, -3.00814883106527, -7.006565217953236, -3.7543166086695603, -9.244942550684842, -0.18811118261369963, -1.3520876631321304, 6.642731786202766, 11.624629867513818, 5.089791241525426, 17.28540669692825, 4.145593515301176, 6.669897830925643, 3.342379604320942, -3.000531026856163, 0.8690118869041333, 2.1191391259847263, 1.0400606346935022, -1.5767721552458567, -0.38246938208677017, -5.022532342795984, -7.816014935171353, -2.124530668350226, 6.598294608428177, -2.8869833562302865, 2.680351375132658, 1.9002003128797165, -8.954777938255582, 7.678881672151613, 0.7670810695508524, -15.219671003381158, -0.4292970753724056, -8.927178754181002, 9.35456972692167, -2.3444845401666883, 5.242835723586409, -4.568568323571951, 2.3482245437864955, -5.0596643834301664, -1.2129272209463036, 3.6879739311388153, 2.5707065906668696, -7.405555579881157, -3.6495236587488034, 10.552795014517269, -4.483882389811524, -4.257624193191156, -2.0254245243299014, 3.2986176600605863, 6.2768779434552595, 0.209988941558111, 0.5128706629977873, 5.234820421564586, 1.3561554602272698, -0.34626265678407864, -1.8156488078123445, 3.1917734683066366, 4.574454638340371, -16.546378762695575, 3.8288172881741884, 3.7501402914005633, -3.9145281307634483, 5.717243955967974, -1.94427601774491, 1.8087320897869394, 2.9791975526753163, 1.733989748165564, 1.4481735536080464, -0.6011532864088158, -1.699009849919407, -2.537684465484993, -5.648048243218927, 7.771017144755304, 8.289802495221293, 2.749018181389731, -2.7478560504623646, 3.187035701638184, 3.3271863514747415, -0.6068368354165559, -1.979716230631718, -1.7187003498801783, -8.7221445817573, 7.803283247467387, 0.7202428204146779, -7.420014335269125, 1.5865795877817748, -5.944696613855658, 2.1590687883272306, -4.040209545638148, -1.5886123533932013, 3.3561020251024525, -0.9636418572748122, -8.790341571220587, -14.420277889769052, 5.204768615653482, 1.7676293966751846, 7.614075331558228, -1.6108559728928094, -5.058441468684077, -2.29848523345304, 13.55418254714986, -9.221963925207724, -9.305291368835313, -1.144257063615689, 1.5411353431670372, -1.7934431795164396, 13.603271657330895, 0.8386799529914518, -4.232351166452346, 8.887343447831418, 3.447980402216013, -1.6179093107489568, -5.619360787935691, 5.812307214957029, 4.577644340482517, -13.383953199044122, -1.2067521511304053, -3.843268548680646, 5.501317290448407, 5.268981857776536, 6.199697243014387, 5.583244253545054, -2.0065019060642566, -1.7683989308808612, -7.44500272465587, 1.8641985071625922, -1.4392635734029582, 0.6086892506385592, 0.8320824772444886, 5.432321075793916, -3.89124723632699, 2.79460988518058, -3.30732267203005, -19.81717010314093, 6.720018145780656, -1.156135975607043, -2.0846197324138256, -2.1744297866657782, 5.127204465512923, 2.3483938945675717, 1.515306846771181, 2.95084795779666, 3.2148368624685353, -1.1704239257324458, 11.046015299956093, 5.18338205243982, 4.704662426826878, -7.556226479967988, 9.307669519312922, 3.8786941310211347, -5.769984748335962, -4.902462149792325, -4.797258036487187, 9.599698589253961, -6.328944062903913, 1.1035568332869286, 3.0226177008666513, -2.3815759760832447, 1.5608736983556089, 17.666828549330546, 7.807097026024323, 0.7375059202610623, 0.2984820765897732, -7.533130877230389, 3.224990457266672, 7.143706134874075, -0.18377532575531186, -5.59571635518358, 2.284159613199516, 5.222157280693789, 7.690559301757455, -9.95686299852051, -7.238545357443682, 1.206594157014743, 7.837647576762078, 5.202032028823739, 10.545415804414057, 4.412892035114261, -2.558684165005041, -2.464984400896542, 4.273989632277002, 0.05940136687430875, -1.5207647275825322, -6.575690792463776, 1.4680062545461592, 3.730754141120608, 2.4100640682043846, 1.36215616046113, -1.5474796974175393, -10.991198691192322, -4.308078281301809, -4.083268728716008, -5.300002994061057, -7.065676365342991, 3.3579648102304613, 3.760938168242196, 0.5475043389805075, 16.715413146438024, 4.574035420911337, 0.8429678147860029, -9.90215063092504, 6.264873269873434, 6.04511073953623, 6.827036906793498, 4.073175654222278, 2.191585382142302, -4.651393103072002, -4.184494614560407, 2.5395736203751222, -7.327023353128026, 2.4034089491384463, -1.138121212074199, 1.443879237867123, -1.9060885332028081, 4.642344669030042, -2.817357344040672, -3.9921685615395814, -6.545006554724176, -5.347592040086224, -5.8215707641621, 10.193618609435386, 8.199464970587385, -2.257265276933498, -1.4209679065492011, -13.739425669723587, 8.101578761409801, -4.463142487765813, -1.231212874338274, 3.574055424020344, -2.6975820163510797, -5.292814262211075, -6.470739849680026, 0.2717348546441004, -7.022291426787448, 7.150438657336113, -8.212022349814397, 2.1861666452997777, -1.3210181382578718, -4.3405055030833095, 1.7950697071283783, -5.402442847936315, 1.8419857120811316, 0.11490620009245589, -3.405128462302418, 5.179867282057761, 2.148419317413368, 6.963944467562422, 10.743828818568147, -5.276988417933317, 7.973435667435221, 5.630681394074118, 2.7679827680442264, -9.161018977262037, 4.039390447556359, 0.21097438433779647, 6.231134793692057, -2.977317003956498, 1.8166682530315073, 5.599817551214047, -6.510658139265481, -8.510307440763818, -2.2467127475750215, -2.6047272403933666, -5.6703822923149, -1.5150512957331745, -1.2355710835186093, -7.389438067176737, 3.1212089917464088, 7.234666666848494, -0.8429347703325257, 2.957826375487088, -0.3773829077696246, -5.27352938221124, 5.559982524699219, 11.321942605429685, 5.128026914692592, 2.6483101973325627, -6.099278531391144, -3.3221054159584424, 8.994105306545569, 1.3515839126765399, -2.1537626363616953, 3.1438635991210693, 0.6791819246910327, -6.319604116148792, -5.6884929602191106, -0.377249806028611, -4.1588035257958555, 4.231017960404716, 0.9341756744705934, 6.220130444621135, 9.05514306960269, 0.21962264508034146, 0.07244811413250185, 6.930033730844469, 1.3128312157588267, 10.147446086224729, 6.99600087276639, 0.2920734390393698, 1.0106267553432884, 1.821735521144901, 7.459737205389233, 5.037121040273506, -12.036532091683181, 4.0793869448212545, 2.9466208275947094, 6.7511599989293165, 3.847530091727842, 2.5709374059338037, 1.7998907492983849, 4.095718550126802, 8.770951899355975, 1.236843656495033, -8.04984209946086, 2.6710700006165227, 2.127889209742662, 0.23681177943886345, 4.25329170451727, 5.577206467945474, -7.805482574559873, 4.157074008472526, 2.205350889056764, -2.0269743319527693, -4.440869433151312, 3.7892127854923587, -2.7699246170670087, -3.835678139270678, -4.6717244030203835, -0.17404152693409736, 1.0372521583595655, -3.1767231561325957, 7.4006268307696335, 5.861314529476979, 2.6513932123206976, 1.0781058989750107, 1.5542423280412057, -7.829063025172884, -4.103907424214007, 0.4589094822590073, 0.30432007948859285, -6.618052536334952, -7.382250451140335, 1.453051371637791, 7.318901935402258, -1.5710760940241073, -3.1904288533211065, 13.926386969342541, 2.777382692227783, -6.704236911003898, -3.1942025399000897, -1.9391428658622734, -2.1714603616699026, -0.4194169761577896, -4.066695097843217, 3.05714997128376, 5.3349902342471, 5.818399563128024, 10.626632966020157, 4.914744851973672, -6.617457223131835, 11.692301787902883, 0.39262107509924504, -0.8154090438664255, 3.911361911448897, -0.03652677759889489, -2.265963160954855, 1.8994311447447156, -14.257759585648566, 3.35055954566467, -7.6182586082066726, -0.07001510144233103, 5.162992800992973, 1.3436284141019934, 8.778491882649972, -3.9570417088606793, 0.8898948156681432, 3.1449231834746016, 4.99303792671697, -0.7297165973021337, -7.752877428965179, 4.088839679123211, -1.0679578775513, -4.153563081766448, -7.050236788197106, -2.9347783473074145, -0.054229354430450405, -9.953822815095688, -7.730533219578742, 3.1312442268015657, 2.504258989444863, 6.972953397707098, -10.982461947506298, -5.678685896311974, 4.509661948633036, -2.6360152559790846, 5.107566088070612, 2.1251813828269284, -4.663612611033866, -2.8310167952707204, -5.767088713679847, -1.4211607226902694, -3.6334199137895293, 7.38187580195349, 5.2813646285441065, -2.649096171586009, -3.7688927597861306, -6.606100598890004, -7.785136778047296, -1.459084780980006, -2.6916906463217325, 5.715707999931148, -1.499746108789679, 1.2980800998300852, 4.237790461996896, -0.23572430748895978, -0.07296702909942443, -1.2733507417513321, 3.4058187735494645, 2.2056214811780572, -0.7782004052829787, -8.677192384373793, 4.5958094436457415, -0.7771569729015434, -9.86430991634036, -0.3377757239864775, -5.713065112426384, 11.504866465756985, 1.9146280866403766, 2.0218867653315566, 3.498155094120274, -2.884225050912283, -16.79158177034447, 4.698911764831366, 3.6648757667113605, -5.738377816431028, -1.9650160931351026, 3.280700543777417, -1.162765124572236, 9.309861577146028, 4.447789727291269, 7.019654642284196, -8.530261285420709, -4.4469035801060794, 2.3563367562657467, -3.2298915461285893, 5.531203428588958, -3.446177338730178, -5.083614529183635, 11.388186380190644, -2.4777773409645474, 4.132366969671685, -5.1155454361516695, -9.846335205355498, -3.44222229936917, 4.128921628998105, -0.6739593894303074, 0.7976836464314147, -4.774166467763857, 0.19595336664875218, -1.9840512499034955, 7.591057807070992, -1.6834682935825025, 13.912543872750689, 5.01195450297337, 0.9491190430427419, 1.6886585073692828, 2.7739972550428313, 11.747089486659283, 3.7050262799229015, -9.706975420231014, -2.1753948022315353, -0.037528604761020934, 4.171579486778213]\n"
     ]
    }
   ],
   "source": [
    "finalPositions = simulateRandomWalk(1000, 100, 0)\n",
    "print(\"Final positions:\", finalPositions)\n"
   ]
  },
  {
   "cell_type": "code",
   "execution_count": 65,
   "metadata": {},
   "outputs": [
    {
     "data": {
      "image/png": "[encoded data removed]",
      "text/plain": [
       "<Figure size 432x288 with 1 Axes>"
      ]
     },
     "metadata": {
      "needs_background": "light"
     },
     "output_type": "display_data"
    }
   ],
   "source": [
    "import random\n",
    "import matplotlib.pyplot as plt\n",
    "\n",
    "def doRandomWalk(nstep, startPosition):\n",
    "    position = startPosition\n",
    "    for i in range(nstep):\n",
    "        step = random.uniform(0, 1)\n",
    "        if random.random() < 0.5:\n",
    "            position -= step\n",
    "        else:\n",
    "            position += step\n",
    "    return position\n",
    "\n",
    "def simulateRandomWalk(nsim, nstep, startPosition):\n",
    "    finalPositions = []\n",
    "    for i in range(nsim):\n",
    "        finalPosition = doRandomWalk(nstep, startPosition)\n",
    "        finalPositions.append(finalPosition)\n",
    "    return finalPositions\n",
    "\n",
    "# Set simulation parameters\n",
    "nsim = 10000\n",
    "nstep = 10\n",
    "startPosition = -10\n",
    "\n",
    "# Simulate random walks\n",
    "finalPositions = simulateRandomWalk(nsim, nstep, startPosition)\n",
    "\n",
    "# Plot histogram of final positions\n",
    "plt.hist(finalPositions, bins=50)\n",
    "plt.xlabel(\"Final Position\")\n",
    "plt.ylabel(\"Count\")\n",
    "plt.title(\"Histogram of Random Walk Final Positions\")\n",
    "plt.show()\n"
   ]
  },
  {
   "cell_type": "markdown",
   "metadata": {},
   "source": [
    "The result of the simulation shows that the final positions of the random walker follow a Gaussian bell-shaped distribution, despite the fact that each step was taken randomly with uniform distribution. This is in accordance with the Central Limit Theorem, which states that the sum of independent random variables, regardless of their distribution, tends towards a Gaussian distribution as the number of variables increase.\n",
    "\n",
    "In the case of the random walker, each step is an independent random variable, and the final position is the sum of these variables. As the number of steps increases, the final position converges towards a Gaussian distribution, which explains the observed bell-shaped distribution of the final positions.\n",
    "\n"
   ]
  },
  {
   "cell_type": "markdown",
   "metadata": {},
   "source": [
    "# P20.Monte Carlo approximation of the area of heart"
   ]
  },
  {
   "cell_type": "code",
   "execution_count": 66,
   "metadata": {},
   "outputs": [
    {
     "data": {
      "image/png": "[encoded data removed]",
      "text/plain": [
       "<Figure size 432x288 with 1 Axes>"
      ]
     },
     "metadata": {
      "needs_background": "light"
     },
     "output_type": "display_data"
    },
    {
     "name": "stdout",
     "output_type": "stream",
     "text": [
      "Estimated area of the heart: 3.654608\n"
     ]
    }
   ],
   "source": [
    "import random\n",
    "import matplotlib.pyplot as plt\n",
    "import numpy as np\n",
    "\n",
    "# define the heart equation\n",
    "def heart(x, y):\n",
    "    return (x**2 + y**2 - 1)**3 - x**2 * y**3\n",
    "\n",
    "# generate points inside the heart shape\n",
    "n = 10000\n",
    "points = []\n",
    "while len(points) < n:\n",
    "    x = random.uniform(-1.5, 1.5)\n",
    "    y = random.uniform(-1.5, 1.5)\n",
    "    if heart(x, y) < 0:\n",
    "        points.append((x, y))\n",
    "\n",
    "# plot the heart shape\n",
    "x, y = np.array(points).T\n",
    "plt.scatter(x, y, s=1)\n",
    "plt.axis('equal')\n",
    "plt.show()\n",
    "\n",
    "# estimate the area of the heart\n",
    "m = 1000000\n",
    "count = 0\n",
    "for i in range(m):\n",
    "    x = random.uniform(-2, 2)\n",
    "    y = random.uniform(-2, 2)\n",
    "    if -1.5 <= x <= 1.5 and -1.5 <= y <= 1.5 and heart(x, y) < 0:\n",
    "        count += 1\n",
    "area = count / m * 16\n",
    "print(f\"Estimated area of the heart: {area}\")\n"
   ]
  },
  {
   "cell_type": "markdown",
   "metadata": {},
   "source": [
    "# P21. Simulating the Monty Hall game"
   ]
  },
  {
   "cell_type": "code",
   "execution_count": 68,
   "metadata": {},
   "outputs": [],
   "source": [
    "import random\n",
    "\n",
    "ngames = 100000\n",
    "wins_without_switching = 0\n",
    "wins_with_switching = 0\n",
    "\n",
    "for i in range(ngames):\n",
    "    # Randomly assign car and goats to the three doors\n",
    "    doors = ['goat', 'goat', 'car']\n",
    "    random.shuffle(doors)\n",
    "\n",
    "    # Player makes initial choice\n",
    "    player_choice = random.randint(0, 2)\n",
    "\n",
    "    # Host opens one of the other two doors to reveal a goat\n",
    "    reveal_choice = random.choice([i for i in range(3) if i != player_choice and doors[i] == 'goat'])\n",
    "\n",
    "    # Player switches to the other unopened door\n",
    "    switch_choice = [i for i in range(3) if i != player_choice and i != reveal_choice][0]\n",
    "\n",
    "    # Check if player wins without switching\n",
    "    if doors[player_choice] == 'car':\n",
    "        wins_without_switching += 1\n",
    "\n",
    "    # Check if player wins by switching\n",
    "    if doors[switch_choice] == 'car':\n",
    "        wins_with_switching += 1\n"
   ]
  },
  {
   "cell_type": "code",
   "execution_count": 69,
   "metadata": {},
   "outputs": [
    {
     "name": "stdout",
     "output_type": "stream",
     "text": [
      "Probability of winning without switching: 0.33557\n",
      "Probability of winning with switching: 0.66443\n"
     ]
    }
   ],
   "source": [
    "# Calculate and print probabilities of winning\n",
    "prob_without_switching = wins_without_switching / ngames\n",
    "prob_with_switching = wins_with_switching / ngames\n",
    "print(\"Probability of winning without switching:\", prob_without_switching)\n",
    "print(\"Probability of winning with switching:\", prob_with_switching)"
   ]
  },
  {
   "cell_type": "code",
   "execution_count": null,
   "metadata": {},
   "outputs": [],
   "source": []
  }
 ],
 "metadata": {
  "kernelspec": {
   "display_name": "Python 3 (ipykernel)",
   "language": "python",
   "name": "python3"
  },
  "language_info": {
   "codemirror_mode": {
    "name": "ipython",
    "version": 3
   },
   "file_extension": ".py",
   "mimetype": "text/x-python",
   "name": "python",
   "nbconvert_exporter": "python",
   "pygments_lexer": "ipython3",
   "version": "3.10.9"
  }
 },
 "nbformat": 4,
 "nbformat_minor": 2
}
