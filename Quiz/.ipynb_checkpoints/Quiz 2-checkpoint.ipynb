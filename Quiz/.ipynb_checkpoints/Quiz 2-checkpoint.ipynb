{
 "cells": [
  {
   "cell_type": "markdown",
   "metadata": {},
   "source": [
    "# Quiz 2"
   ]
  },
  {
   "cell_type": "markdown",
   "metadata": {},
   "source": [
    "1.\n",
    "\n",
    "(A) What is the closest programming language to machine code (i.e., binary code)?\n",
    "\n",
    "To machine code, it would be the Assembly language.\n",
    "\n",
    "(B) Does it need interpretation in order to become machine-comprehensible?\n",
    "\n",
    "These are the instructions, that are given to the machine to become comprehendable."
   ]
  },
  {
   "cell_type": "markdown",
   "metadata": {},
   "source": [
    "2.\n",
    "\n",
    "(A) Name the oldest high-level programming language.\n",
    "Fortran\n",
    "\n",
    "(B) Approximately how many decades is it old? (±15\n",
    " years is acceptable answer. the decade it was created is also an acceptable answer)\n",
    " \n",
    " It was developed in the 1950's"
   ]
  },
  {
   "cell_type": "markdown",
   "metadata": {},
   "source": [
    "3.\n",
    "\n",
    "In what decades C, C++, and MATLAB/Python were created, respectively?\n",
    "\n",
    "C 1970s\n",
    "C++ 1980s\n",
    "MATLAB/Python 1990s"
   ]
  },
  {
   "cell_type": "markdown",
   "metadata": {},
   "source": [
    "4.\n",
    "\n",
    "Name an ancestor programming language of C.\n",
    "\n",
    "B is an ancestor of C"
   ]
  },
  {
   "cell_type": "markdown",
   "metadata": {},
   "source": [
    "5.\n",
    "\n",
    "Name a programming language ancestor of C++.\n",
    "\n",
    "C is an ancestor of C++"
   ]
  },
  {
   "cell_type": "markdown",
   "metadata": {},
   "source": [
    "6.\n",
    "\n",
    "The function name is misspelled as \"getsquare\" instead of \"getSquare\".\n"
   ]
  },
  {
   "cell_type": "markdown",
   "metadata": {},
   "source": [
    "7.\n",
    "\n",
    "This code will work for most cases except it might fail if the value given is a non-integer."
   ]
  },
  {
   "cell_type": "markdown",
   "metadata": {},
   "source": [
    "8.\n",
    "\n",
    "It does contain an error.\n",
    "The program is trying to print the value of array(3), which is outside the bounds of the declared array array(0:2). \n",
    "If accessing an array element outside its bounds results in undefined behavior and may cause the program to crash or yield weird results."
   ]
  },
  {
   "cell_type": "markdown",
   "metadata": {},
   "source": [
    "9.\n",
    "\n",
    "Suppose you write a program that has memory leak. What type of programming error are you dealing with?\n",
    "\n",
    "It is dealing with a management error of memory. It is allocating the save repetetive memory previously and almost \"looping\" through it.\n",
    "Also known as runtimer error.\n"
   ]
  },
  {
   "cell_type": "markdown",
   "metadata": {},
   "source": [
    "10.\n",
    "\n",
    "What are the order-of-magnitudes of the largest 32-bit and 64-bit IEEE integers?\n",
    "\n",
    "Int 32 – 2^31 -1 = 2,147,………(2 billion)\n",
    "\n",
    "Int64 – 2^63 -1 = 9x10^18\n"
   ]
  },
  {
   "cell_type": "markdown",
   "metadata": {},
   "source": [
    "11.\n",
    "\n",
    "What are the the smallest and the largest exponents in base 10 that are representable with 32-bit and 64-bit IEEE real/float values?\n",
    "\n",
    "32-bit \n",
    "smallest exponent is -126 \n",
    "largest exponent is +127\n",
    "64-bit \n",
    "smallest exponent is -1022 \n",
    "largest exponent is +1023."
   ]
  },
  {
   "cell_type": "markdown",
   "metadata": {},
   "source": [
    "12.\n",
    "\n",
    "5-bit --> 2^5 = 32 \n",
    "A sign bit with 0 + and 1 -\n",
    "\n",
    "-2^(5-1) to 2^(5-1)-1, = -16 to 15"
   ]
  },
  {
   "cell_type": "markdown",
   "metadata": {},
   "source": [
    "13.\n",
    "\n",
    "Consider the IEEE 754 single-precision 32-bit float. How many floats can be represented with such a storage scheme? How many subnormal values do exist in this storage scheme? How many infinite values do exist in this storage scheme? How many NaN values do exist in this storage scheme? What bit pattern would correspond to an infinity? What bit pattern would correspond to a subnormal? What bit pattern would correspond to a NaN?\n",
    "\n",
    "\n",
    "single precision 32-bit float\n",
    "Int 32 – 2^31 -1 = 2,147,………(2 billion)\n",
    "\n",
    "floats = 2^32\n",
    "subnormal = 2^23\n",
    "infinite values = 2 (one is positive, the other is negative)\n",
    "NaN = 2^23 - 2\n",
    "\n",
    "bit pattern for infinity = a float number with maximum biased exppnent value and all zeors in significand is interpreted as positive or negative infinity (depend on the value of the sign bit)\n",
    "bit pattern subnormal = everything after 0 to 2^23-1\n",
    "bit pattern for NaN = a float number with maximum biased exponent value and non-zero significand"
   ]
  },
  {
   "cell_type": "markdown",
   "metadata": {},
   "source": [
    "14.\n",
    "\n",
    "Why are chaotic phenomena hard to simulate by digital computers?\n",
    "\n",
    "The intitial conditions to simulate chaotic systems are very sensible to the intitial parameters. This changes in the intitial parameters can cause errors as the program inititates. \n",
    "The way computers use finite precision to perform calculations, makes them prone to have errors. These chaotic systems also contain perhaps complex calculations that make it hard for a computer to calculate.\n"
   ]
  },
  {
   "cell_type": "markdown",
   "metadata": {},
   "source": [
    "15.\n",
    "\n",
    "What is the difference between mutable and immutable objects in computer programming?\n",
    "\n",
    "Mutable objects you can change the its contents, i.e. List\n",
    "For immutable objects you can not, i.e. Tuples"
   ]
  },
  {
   "cell_type": "markdown",
   "metadata": {},
   "source": [
    "16.\n",
    "\n",
    "Write a recursive function in your favorite programming language that takes a vector of integers as input and outputs the minimum value.\n"
   ]
  },
  {
   "cell_type": "code",
   "execution_count": 6,
   "metadata": {},
   "outputs": [],
   "source": [
    "def find_min(arr):\n",
    "    if len(arr) == 1:\n",
    "        return arr[0]\n",
    "    else:\n",
    "        return min(arr[0], find_min(arr[1:]))"
   ]
  },
  {
   "cell_type": "code",
   "execution_count": 7,
   "metadata": {},
   "outputs": [
    {
     "name": "stdout",
     "output_type": "stream",
     "text": [
      "10\n"
     ]
    }
   ],
   "source": [
    "my_array = [10, 20, 30, 40, 50, 1000]\n",
    "\n",
    "print(find_min(my_array))"
   ]
  },
  {
   "cell_type": "markdown",
   "metadata": {},
   "source": [
    "17.\n",
    "\n",
    "Suppose you implement the matrix multiplication of a large square matrix of size ndim by ndim with a column vector of similar size ndim using the naive definition of matrix multiplication in both C and Fortran. Which version of your code would run faster? C or Fortran? Why?\n",
    "\n",
    "I think in this case, Fortran will perform the multiplication faster due to performing column vector multiplication ."
   ]
  },
  {
   "cell_type": "markdown",
   "metadata": {},
   "source": [
    "18.\n",
    "\n",
    "Suppose you implement the matrix multiplication of a row vector of size ndim with a square matrix of size ndim by ndim using the naive definition of matrix multiplication in both C and Fortran. Which version of your code would run faster? C or Fortran? Why?\n",
    "\n",
    "The more I think of it, I think Fortran will run faster, but C with the right implementation of libraries can be the same as Fortran. Both languages are optimized to perform complex long matric multiplication. Therefore if the \"best\" compilers are at hand, then both are able to perform the same.\n",
    "\n",
    "The row vector multiplication slows down in C because it is storing the row in memory for each consecutive multiplication."
   ]
  },
  {
   "cell_type": "markdown",
   "metadata": {},
   "source": [
    "19.\n",
    "\n",
    "Consider the following C programs. Which one would run faster (without any compiler optimizations)? Why?\n",
    "\n",
    "1)\n",
    "#include <stdio.h>\n",
    "#include <time.h>\n",
    "int matrix[999][999];\n",
    "void main()\n",
    "{\n",
    "    int i, j;\n",
    "    for (i = 0; i < 999; i++)\n",
    "        for (j = 0; j < 999; j++)\n",
    "            matrix[i][j] = matrix[i][j] + (matrix[i][j] * matrix[i][j]);\n",
    "}\n",
    "2)\n",
    "\n",
    "#include <stdio.h>\n",
    "#include <time.h>\n",
    "int matrix[999][999];\n",
    "void main()\n",
    "{\n",
    "    int i, j;\n",
    "    for (j = 0; j < 999; j++)\n",
    "        for (i = 0; i < 999; i++)\n",
    "            matrix[i][j] = matrix[i][j] + (matrix[i][j] * matrix[i][j]);\n",
    "}\n",
    "\n",
    "\n",
    "Program one is doing row and the second program is doing column. The second program is faster because it is not storing each consecutive row in memory. This creates cache problems and slows down the processing speed to perform the calculation."
   ]
  },
  {
   "cell_type": "markdown",
   "metadata": {},
   "source": [
    "20.\n",
    "\n",
    "Consider the following Fortran program. Which loop would run faster in this program (without any compiler optimizations)? Why?\n",
    "\n",
    "\n",
    "1)\n",
    "integer :: i, j, matrix(999, 999)\n",
    "do i = 1, 999\n",
    "    do j = 1, 999\n",
    "        matrix(i,j) = matrix(i,j) + (matrix(i,j) * matrix(i,j))\n",
    "    end do\n",
    "end do\n",
    "end\n",
    "2)\n",
    "\n",
    "integer :: i, j, matrix(999, 999)\n",
    "do j = 1, 999\n",
    "    do i = 1, 999\n",
    "        matrix(i,j) = matrix(i,j) + (matrix(i,j) * matrix(i,j))\n",
    "    end do\n",
    "end do\n",
    "end\n",
    "\n",
    "\n",
    "\n",
    "\n",
    "Fortran, arrays are stored in column-major order by default. Therefor the second program will run faster as its performing matrix multiplication in the column format. Allowing to not store each row in memory creating memory leaks and cache errors."
   ]
  },
  {
   "cell_type": "markdown",
   "metadata": {},
   "source": [
    "21.\n",
    "\n",
    "Representing matrices as lists in Python can be extremely slow.\n",
    "Why are lists unsuitable for numerical storage and fast computation?\n",
    "\n",
    "In python, each element of a list must be allocated in memory separately.\n",
    "This results in memory locations being put throughout and having cache problems. This makes it an inefficient way to store items and perform calculations."
   ]
  },
  {
   "cell_type": "markdown",
   "metadata": {},
   "source": [
    "22.\n",
    "\n",
    "What are the three fundamental components of a Turing-complete language?\n",
    "\n",
    "1) accesing memory\n",
    "2) iteration\n",
    "3) branching"
   ]
  },
  {
   "cell_type": "markdown",
   "metadata": {},
   "source": [
    "23.\n",
    "\n",
    "Suppose we have the following matrix. Can you think of a storage scheme for this matrix that could lead to significant memory saving?"
   ]
  },
  {
   "cell_type": "code",
   "execution_count": 8,
   "metadata": {},
   "outputs": [],
   "source": [
    "my_matrix = [ [ 0 , 0 , 0 , 1 ]\n",
    "            , [ 2 , 0 , 0 , 0 ]\n",
    "            , [ 0 , 5 , 0 , 0 ]\n",
    "            , [ 0 , 0 , 0 , 3 ]\n",
    "            , [ 0 , 0 , 8 , 0 ]\n",
    "            ]"
   ]
  },
  {
   "cell_type": "markdown",
   "metadata": {},
   "source": [
    "The matrix can be save by doing a sparse matrix. Where you can store only the integer values and all the zeros can be allocated to a new 'component'. in this way you only have the location of the integers in the matrix and dont have to carry the zeros around when performing calculations."
   ]
  },
  {
   "cell_type": "code",
   "execution_count": null,
   "metadata": {},
   "outputs": [],
   "source": []
  }
 ],
 "metadata": {
  "kernelspec": {
   "display_name": "Python 3 (ipykernel)",
   "language": "python",
   "name": "python3"
  },
  "language_info": {
   "codemirror_mode": {
    "name": "ipython",
    "version": 3
   },
   "file_extension": ".py",
   "mimetype": "text/x-python",
   "name": "python",
   "nbconvert_exporter": "python",
   "pygments_lexer": "ipython3",
   "version": "3.10.9"
  }
 },
 "nbformat": 4,
 "nbformat_minor": 2
}
