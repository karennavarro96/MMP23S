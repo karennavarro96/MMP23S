{
 "cells": [
  {
   "cell_type": "markdown",
   "metadata": {},
   "source": [
    "def getBinLinear(x, edges):\n",
    "    \"\"\"\n",
    "    Return the index of the element of `edges` such that the condition `edges[i] <= x < edges[i + 1]` holds.\n",
    "    If `x` is larger than all elements of `edges`, then the function returns `len(edges) - 1`.\n",
    "    If `x` is smaller than all elements of `edges`, then the function returns `- 1`.\n",
    "    \"\"\""
   ]
  },
  {
   "cell_type": "code",
   "execution_count": 3,
   "metadata": {},
   "outputs": [],
   "source": [
    "def getBinLinear(x, edges):\n",
    "\n",
    "    if x > edges[0]:\n",
    "        return len(edges) - 1\n",
    "    if x < edges:\n",
    "        return - 1\n",
    "    if edges[i] <= x < edges[i + 1]:\n",
    "        return edges"
   ]
  },
  {
   "cell_type": "markdown",
   "metadata": {},
   "source": [
    "def getBinBinary(x, edges):\n",
    "    \"\"\"\n",
    "    Return the index of the element of `edges` such that the condition `edges[i] <= x < edges[i + 1]` holds.\n",
    "    If `x` is larger than all elements of `edges`, then the function returns `len(edges) - 1`.\n",
    "    If `x` is smaller than all elements of `edges`, then the function returns `- 1`.\n",
    "    \"\"\""
   ]
  },
  {
   "cell_type": "code",
   "execution_count": null,
   "metadata": {},
   "outputs": [],
   "source": [
    "def getBinBinary(x, edges):\n",
    "    x_edge_in = 0\n",
    "    x_edge_out = len(edges) - 1\n",
    "    \n",
    "    for x_edge_in < x_edge_out:\n",
    "        \n",
    "    "
   ]
  },
  {
   "cell_type": "code",
   "execution_count": 5,
   "metadata": {},
   "outputs": [
    {
     "name": "stdout",
     "output_type": "stream",
     "text": [
      "nbin = 4, x = 2\n",
      "nbin = 13, x = 11\n",
      "nbin = 38, x = 36\n",
      "nbin = 107, x = 105\n",
      "nbin = 299, x = 297\n",
      "nbin = 834, x = 832\n",
      "nbin = 2320, x = 2318\n",
      "nbin = 6457, x = 6455\n",
      "nbin = 17969, x = 17967\n",
      "nbin = 50000, x = 49998\n"
     ]
    },
    {
     "name": "stderr",
     "output_type": "stream",
     "text": [
      "/Users/karennavarro/anaconda3/lib/python3.7/site-packages/ipykernel_launcher.py:4: DeprecationWarning: `np.int` is a deprecated alias for the builtin `int`. To silence this warning, use `int` by itself. Doing this will not modify any behavior and is safe. When replacing `np.int`, you may wish to use e.g. `np.int64` or `np.int32` to specify the precision. If you wish to review your current use, check the release note link for additional information.\n",
      "Deprecated in NumPy 1.20; for more details and guidance: https://numpy.org/devdocs/release/1.20.0-notes.html#deprecations\n",
      "  after removing the cwd from sys.path.\n"
     ]
    }
   ],
   "source": [
    "import numpy as np\n",
    "\n",
    "for val in np.logspace(np.log2(5), np.log2(50000), 10, base = 2):\n",
    "    nbin = np.int(val)\n",
    "    edges = range(nbin)\n",
    "    x = edges[-2]\n",
    "    print(\"nbin = {}, x = {}\".format(nbin, x))"
   ]
  },
  {
   "cell_type": "code",
   "execution_count": null,
   "metadata": {},
   "outputs": [],
   "source": []
  }
 ],
 "metadata": {
  "kernelspec": {
   "display_name": "Python 3 (ipykernel)",
   "language": "python",
   "name": "python3"
  },
  "language_info": {
   "codemirror_mode": {
    "name": "ipython",
    "version": 3
   },
   "file_extension": ".py",
   "mimetype": "text/x-python",
   "name": "python",
   "nbconvert_exporter": "python",
   "pygments_lexer": "ipython3",
   "version": "3.10.9"
  }
 },
 "nbformat": 4,
 "nbformat_minor": 2
}
